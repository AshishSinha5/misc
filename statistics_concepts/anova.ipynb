{
 "cells": [
  {
   "cell_type": "code",
   "execution_count": 2,
   "metadata": {},
   "outputs": [],
   "source": [
    "import numpy as np\n",
    "import pandas as pd\n",
    "import matplotlib.pyplot as plt\n",
    "from scipy import stats"
   ]
  },
  {
   "cell_type": "markdown",
   "metadata": {},
   "source": [
    "## Example \n",
    "Let us consider an example where a factory is producing steel washers using three processes $A$, $B$ and $C$. \n",
    "\n",
    "Let the inner diameter of the washer be denoted by $ID$ and the outer diameter as $OD$.\n",
    "\n",
    "![Steel Washer](steel_washer.png)\n",
    "\n",
    "Both measurements are in $mm$. The measurements for the OD for the three processes are as follows - "
   ]
  },
  {
   "cell_type": "code",
   "execution_count": 3,
   "metadata": {},
   "outputs": [],
   "source": [
    "a = [20, 21, 20, 21, 23, 19, 20, 19, 19, 20]\n",
    "b = [17, 17, 19, 17, 16, 19, 18, 18, 18, 20]\n",
    "c = [20, 20, 21, 20, 21, 21, 22, 19, 22, 20] # in mm"
   ]
  },
  {
   "cell_type": "markdown",
   "metadata": {},
   "source": [
    "As a manufacturer you'd want all three process to be at the same level of consistency. <br>\n",
    "So we're interested to check if there is any mean differences in OD of the washers produced by any two of the three processes? <br>\n",
    "Let us plot our observations using the box plots."
   ]
  },
  {
   "cell_type": "code",
   "execution_count": 9,
   "metadata": {},
   "outputs": [
    {
     "data": {
      "image/png": "[encoded data removed]",
      "text/plain": [
       "<Figure size 640x480 with 1 Axes>"
      ]
     },
     "metadata": {},
     "output_type": "display_data"
    }
   ],
   "source": [
    "# plot the data as a boxplot highlighting the median\n",
    "plt.boxplot([a, b, c])\n",
    "plt.xticks([1, 2, 3], ['A', 'B', 'C'])\n",
    "plt.xlabel('Process')\n",
    "plt.ylabel('Outer Diameter (mm)')\n",
    "plt.show()"
   ]
  },
  {
   "cell_type": "markdown",
   "metadata": {},
   "source": [
    "From the box plots we can infer that there is some difference between the processes in terms of there mean. There is a chance that both process A and process C mean are different from the process B. \n",
    "\n",
    "How do we prove this quantitatively? We use the ANOVA test.<br>\n",
    "We set up the following hypothesis test - \n",
    "$$\\begin{align*}\n",
    "H_0 & : \\mu_1 = \\mu_2 = \\mu_3 \\\\\n",
    "H_1 & : \\mu_l \\neq \\mu_m\n",
    "\\end{align*}\n",
    "$$\n",
    "For at least one pair of $l$ and $m$, $l \\neq m$, $l = 1,2,3$ and $m = 1,2,3$"
   ]
  },
  {
   "cell_type": "markdown",
   "metadata": {},
   "source": [
    "### Terminology associated with the ANOVA test\n",
    "\n",
    "- Population Mean\n",
    "$$\n",
    "\\mu_l = \\frac{\\Sigma_{i = 1}^{n_i}x_{il}}{n_{il}} \n",
    "$$\n",
    "- Grand Mean\n",
    "$$\n",
    "\\mu = \\frac{\\Sigma_{l = 1}^{L}n_l\\mu_l}{\\Sigma_{l=1}^{L}n_l}\n",
    "$$\n",
    "- Difference between single observation and the process/population mean for $l^{th}$ process\n",
    "$$\n",
    "\\epsilon_{il} = X_{il} - \\mu_l\n",
    "$$\n",
    "- Population Effect - Difference between process/population mean and grand mean for $l^{th}$ process\n",
    "$$\n",
    "\\tau_i = \\mu - \\mu_i\n",
    "$$\n",
    "$\\therefore$ a single observation is given by - \n",
    "$$\n",
    "X_{il} = \\mu + \\tau_i + \\epsilon_{il}\n",
    "$$ \n",
    "Now we can rewrite the hypothesis as follows - \n",
    "$$\\begin{align*}\n",
    "H_0&: \\tau_l = 0\\  \\forall\\  l = 0,1, .., L \\\\\n",
    "H_1&: \\tau_l \\neq 0, for\\  at\\  least\\  one\\  l\n",
    "\\end{align*}\n",
    "$$"
   ]
  },
  {
   "cell_type": "markdown",
   "metadata": {},
   "source": [
    "## Assumptions for ANOVA test\n",
    "- Population variance are equal \n",
    "$$\n",
    "\\sigma_1^2 = \\sigma_2^2 = \\sigma_3^2 = ... = \\sigma_L^2 = \\sigma^2\n",
    "$$\n",
    "- Errors are normally distributed \n",
    "- Errors are iid"
   ]
  },
  {
   "cell_type": "markdown",
   "metadata": {},
   "source": [
    "### Testing for equality of population variance assumption\n",
    "We use bartlett's test to check if this assumption is true or not. We formulate our hypothesis as follows - \n",
    "$$\\begin{align*}\n",
    "H_0 & : \\sigma_1^2 = \\sigma_2^2 = ... = \\sigma_2^L \\\\\n",
    "H_1 & : \\sigma_l^2 \\neq \\sigma_m^2\\  for\\ some\\ l \\neq m\\ \\&\\  l,m \\in [1,2,...,L]\n",
    "\\end{align*}\n",
    "$$\n"
   ]
  },
  {
   "cell_type": "code",
   "execution_count": null,
   "metadata": {},
   "outputs": [],
   "source": []
  }
 ],
 "metadata": {
  "kernelspec": {
   "display_name": "gml",
   "language": "python",
   "name": "python3"
  },
  "language_info": {
   "codemirror_mode": {
    "name": "ipython",
    "version": 3
   },
   "file_extension": ".py",
   "mimetype": "text/x-python",
   "name": "python",
   "nbconvert_exporter": "python",
   "pygments_lexer": "ipython3",
   "version": "0.0.0"
  },
  "orig_nbformat": 4
 },
 "nbformat": 4,
 "nbformat_minor": 2
}
