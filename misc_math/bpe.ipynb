{
 "cells": [
  {
   "cell_type": "code",
   "execution_count": null,
   "metadata": {},
   "outputs": [],
   "source": [
    "# http://www.pennelynn.com/Documents/CUJ/HTML/94HTML/19940045.HTM#0045_0026"
   ]
  },
  {
   "cell_type": "markdown",
   "metadata": {},
   "source": [
    "## Overview\n",
    "\n",
    "Byte pair encoding is a compression algorith replacing frequently occurring bit patterns with shorter representations. The main idea of the algorithm is to represent common pair of bytes with a single byte."
   ]
  },
  {
   "cell_type": "code",
   "execution_count": 1,
   "metadata": {},
   "outputs": [],
   "source": [
    "import re, collections"
   ]
  },
  {
   "cell_type": "code",
   "execution_count": 29,
   "metadata": {},
   "outputs": [],
   "source": [
    "def get_stats(vocab):\n",
    "    \"\"\"\n",
    "    get_stats: get the frequency of each pair of characters in the vocabulary\n",
    "    :param vocab: vocabulary\n",
    "    :return: pairs\n",
    "    \"\"\"\n",
    "    pairs = collections.defaultdict(int)\n",
    "    for word, freq in vocab.items():\n",
    "        symbols = word.split(' ')\n",
    "        # print(symbols)\n",
    "        for i in range(len(symbols) - 1):\n",
    "            pairs[symbols[i], symbols[i+1]] += freq\n",
    "    return pairs\n",
    "\n",
    "def merge_vocab(pair, v_in):\n",
    "    \"\"\"\n",
    "    merge_vocab: merge the most frequent pair of characters in the vocabulary\n",
    "    :param pair: the most frequent pair of characters\n",
    "    :param v_in: vocabulary\n",
    "    :return: v_out\n",
    "    \"\"\"\n",
    "    v_out = {}\n",
    "    bigram = re.escape(' '.join(pair))\n",
    "    # print(bigram)\n",
    "    p = re.compile(r'(?<!\\S)' + bigram + r'(?!\\S)')\n",
    "    for word in v_in:\n",
    "        w_out = p.sub(''.join(pair), word)\n",
    "        # print(w_out)\n",
    "        v_out[w_out] = v_in[word]\n",
    "    return v_out"
   ]
  },
  {
   "cell_type": "code",
   "execution_count": 37,
   "metadata": {},
   "outputs": [
    {
     "name": "stdout",
     "output_type": "stream",
     "text": [
      "('n', 'e')\n",
      "('ne', 'w')\n",
      "('new', 'e')\n",
      "('s', 't')\n",
      "('st', '</w>')\n",
      "('l', 'o')\n",
      "('lo', 'w')\n",
      "('new', '</w>')\n",
      "('r', '</w>')\n",
      "('newe', 'st</w>')\n"
     ]
    }
   ],
   "source": [
    "vocab = {'l o w </w>' : 5, 'l o w e r </w>' : 2,\n",
    "            'n e w e s t </w>':6, 'w i d e s t </w>':3, 'n e w </w>':7, 'n e w e r </w>':4}\n",
    "num_merges = 10\n",
    "\n",
    "for i in range(num_merges):\n",
    "    pairs = get_stats(vocab)\n",
    "    # print(pairs)\n",
    "    best = max(pairs, key = pairs.get)\n",
    "    vocab = merge_vocab(best, vocab)\n",
    "    print(best)"
   ]
  },
  {
   "cell_type": "code",
   "execution_count": 38,
   "metadata": {},
   "outputs": [
    {
     "data": {
      "text/plain": [
       "{'low </w>': 5,\n",
       " 'low e r</w>': 2,\n",
       " 'newest</w>': 6,\n",
       " 'w i d e st</w>': 3,\n",
       " 'new</w>': 7,\n",
       " 'newe r</w>': 4}"
      ]
     },
     "execution_count": 38,
     "metadata": {},
     "output_type": "execute_result"
    }
   ],
   "source": [
    "vocab "
   ]
  }
 ],
 "metadata": {
  "kernelspec": {
   "display_name": "gml",
   "language": "python",
   "name": "python3"
  },
  "language_info": {
   "codemirror_mode": {
    "name": "ipython",
    "version": 3
   },
   "file_extension": ".py",
   "mimetype": "text/x-python",
   "name": "python",
   "nbconvert_exporter": "python",
   "pygments_lexer": "ipython3",
   "version": "3.8.16"
  },
  "orig_nbformat": 4
 },
 "nbformat": 4,
 "nbformat_minor": 2
}
