{
 "cells": [
  {
   "cell_type": "code",
   "execution_count": 1,
   "metadata": {},
   "outputs": [
    {
     "data": {
      "text/plain": [
       "\"\\nWe start with a guess x_0 for the zero of a function f(x). We then find the\\ntangent line to f(x) at x_0. The zero of the tangent line is then a better\\nguess for the zero of f(x). We repeat this process until we reach a guess\\nx_n such that f(x_n) is close to zero.\\n\\nThe tangent line to f(x) at x_0 is given by\\n    y = f'(x_0)(x - x_0) + f(x_0)\\nThe zero of this line is given by\\n    x_1 = x_0 - f(x_0)/f'(x_0)  \\nWe repeat this process until we reach a guess x_n such that f(x_n) is close\\nto zero.\\n\""
      ]
     },
     "execution_count": 1,
     "metadata": {},
     "output_type": "execute_result"
    }
   ],
   "source": [
    "# Newton's method for finding zeros of a function\n",
    "\n",
    "\"\"\"\n",
    "We start with a guess x_0 for the zero of a function f(x). We then find the\n",
    "tangent line to f(x) at x_0. The zero of the tangent line is then a better\n",
    "guess for the zero of f(x). We repeat this process until we reach a guess\n",
    "x_n such that f(x_n) is close to zero.\n",
    "    \n",
    "The tangent line to f(x) at x_0 is given by\n",
    "    y = f'(x_0)(x - x_0) + f(x_0)\n",
    "The zero of this line is given by\n",
    "    x_1 = x_0 - f(x_0)/f'(x_0)  \n",
    "We repeat this process until we reach a guess x_n such that f(x_n) is close\n",
    "to zero.\n",
    "\"\"\"\n"
   ]
  },
  {
   "cell_type": "code",
   "execution_count": 2,
   "metadata": {},
   "outputs": [],
   "source": [
    "import numpy as np\n",
    "import matplotlib.pyplot as plt\n",
    "\n",
    "# Define the function whose zeros we are trying to find\n",
    "def f(x):\n",
    "    return 2.1*x**3 - 3.9*x**2 + 1.933*x - 0.333\n",
    "\n",
    "# Define the derivative of the function\n",
    "def df(x):\n",
    "    return 6.3*x**2 - 7.8*x + 1.933\n",
    "\n",
    "# Define the initial guess\n",
    "x0 = 0.5\n",
    "\n",
    "# Define the tolerance\n",
    "tol = 1e-6\n",
    "\n",
    "# Define the maximum number of iterations\n",
    "maxiter = 100\n",
    "\n",
    "# Initialize the iteration counter\n",
    "iter = 0\n",
    "\n",
    "# Initialize the error\n",
    "err = 1.0\n",
    "\n",
    "# Initialize the list of guesses\n",
    "x = [x0]\n",
    "\n",
    "# Iterate until the error is less than the tolerance or the maximum number of\n",
    "# iterations has been reached\n",
    "while err > tol and iter < maxiter:\n",
    "    # Compute the next guess\n",
    "    x1 = x[iter] - f(x[iter])/df(x[iter])\n",
    "    \n",
    "    # Compute the error\n",
    "    err = np.abs(x1 - x[iter])\n",
    "    \n",
    "    # Update the iteration counter\n",
    "    iter += 1\n",
    "    \n",
    "    # Append the new guess to the list of guesses\n",
    "    x.append(x1)"
   ]
  },
  {
   "cell_type": "code",
   "execution_count": 3,
   "metadata": {},
   "outputs": [
    {
     "name": "stdout",
     "output_type": "stream",
     "text": [
      "The zero of f(x) is approximately 1.200364446063064\n"
     ]
    }
   ],
   "source": [
    "# Print the result\n",
    "print(\"The zero of f(x) is approximately\", x[-1])"
   ]
  },
  {
   "cell_type": "code",
   "execution_count": 11,
   "metadata": {},
   "outputs": [
    {
     "name": "stderr",
     "output_type": "stream",
     "text": [
      "No artists with labels found to put in legend.  Note that artists whose label start with an underscore are ignored when legend() is called with no argument.\n"
     ]
    },
    {
     "data": {
      "text/plain": [
       "<matplotlib.legend.Legend at 0x24fd8384e50>"
      ]
     },
     "execution_count": 11,
     "metadata": {},
     "output_type": "execute_result"
    },
    {
     "data": {
      "image/png": "[encoded data removed]",
      "text/plain": [
       "<Figure size 640x480 with 1 Axes>"
      ]
     },
     "metadata": {},
     "output_type": "display_data"
    }
   ],
   "source": [
    "# Plot the function\n",
    "xvals = np.linspace(-1, 8, 100)\n",
    "plt.plot(xvals, f(xvals), 'k-')\n",
    "\n",
    "# Plot the tangent lines\n",
    "for i in range(len(x) - 1):\n",
    "    xvals = np.linspace(x[i] - 0.05, x[i] + 0.05, 100)\n",
    "    plt.plot(xvals, df(x[i])*(xvals - x[i]) + f(x[i]), 'r--')\n",
    "\n",
    "\n",
    "\n",
    "# Plot the zeros\n",
    "plt.plot(x, f(np.array(x)), 'bo')\n",
    "\n",
    "# draw a line at y = 0\n",
    "plt.plot([-1, 8], [0, 0], '--')\n",
    "\n",
    "# Label the axes\n",
    "plt.xlabel('x')\n",
    "plt.ylabel('f(x)')\n",
    "plt.legend()\n"
   ]
  },
  {
   "cell_type": "code",
   "execution_count": 5,
   "metadata": {},
   "outputs": [
    {
     "data": {
      "text/plain": [
       "<function __main__.df(x)>"
      ]
     },
     "execution_count": 5,
     "metadata": {},
     "output_type": "execute_result"
    }
   ],
   "source": [
    "df"
   ]
  },
  {
   "cell_type": "code",
   "execution_count": null,
   "metadata": {},
   "outputs": [],
   "source": []
  }
 ],
 "metadata": {
  "kernelspec": {
   "display_name": "gml",
   "language": "python",
   "name": "python3"
  },
  "language_info": {
   "codemirror_mode": {
    "name": "ipython",
    "version": 3
   },
   "file_extension": ".py",
   "mimetype": "text/x-python",
   "name": "python",
   "nbconvert_exporter": "python",
   "pygments_lexer": "ipython3",
   "version": "0.0.0"
  }
 },
 "nbformat": 4,
 "nbformat_minor": 2
}
