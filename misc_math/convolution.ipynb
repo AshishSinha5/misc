{
 "cells": [
  {
   "cell_type": "code",
   "execution_count": 1,
   "metadata": {},
   "outputs": [],
   "source": [
    "# https://betterexplained.com/articles/intuitive-convolution/\n",
    "import numpy as np\n",
    "import matplotlib.pyplot as plt"
   ]
  },
  {
   "attachments": {},
   "cell_type": "markdown",
   "metadata": {},
   "source": [
    "## Convolution\n",
    "\n",
    "A mathematical operation on two functions (f and g) that produces a third function (f*g) that expresses how the shape of one is modified by the other.\n",
    "\n",
    "$$\n",
    "f*g(x)= \\int_{-\\infty}^{\\infty} f(\\tau)g(x - \\tau)d\\tau\n",
    "$$\n",
    "\n",
    "And its discrete analogue - \n",
    "$$\n",
    "f*g(x) = \\Sigma_{k = -\\infty}^{\\infty} f(\\tau)g(x - \\tau)\n",
    "$$"
   ]
  },
  {
   "attachments": {},
   "cell_type": "markdown",
   "metadata": {},
   "source": [
    "## Exmaple 1 - Hospital Dosage\n",
    "\n",
    "### Scenario 1\n",
    "Let us assume that a hospital is treating a disease that requires a 3 units of medicine for only a day.\n",
    "- A patient needs `[3]` units of medicine to cure the disease.\n",
    "- Frequency of patients for the week is given by `[2, 3, 5, 6, 3]`.\n",
    "\n",
    "Total number of doses requires to cure all the patients - \n",
    "\n",
    "```\n",
    "Plan  *     Patients      =   Daily Dose\n",
    "[3]   * [2, 3, 5, 6, 3]   = [6, 9, 15, 18, 9]\n",
    "```\n",
    "\n",
    "### Scenario 2\n",
    "The disease has now mutated and requires multi-day treatment. \n",
    "- A patient now needs `[4, 2, 1]` units of medicines for three days respectively.\n",
    "- The frequency of incoming patients remain the same i.e. `[2, 3, 5, 6, 3]`.\n",
    "\n",
    "Now the calculation (to find the overall doses) becomes a little tricky as we need to keep track of multiple day medicine plan.\n",
    "\n",
    "The concept of convolution comes in handy.\n",
    "\n",
    "We reverse the patient list and create a *queue* so that the first patient comes in last. We also treat medical plan as different room providing different amount of doses for different days.\n",
    "\n",
    "```\n",
    "Monday\n",
    "---------------------------\n",
    "Rooms                 4 2 1\n",
    "Patients      3 6 5 3 2 \n",
    "\n",
    "Usage                 8\n",
    "```\n",
    "Two patients come on first day and we use `8` units of medicine.\n",
    "\n",
    "```\n",
    "Tuesday\n",
    "---------------------------\n",
    "Rooms                  4 2 1\n",
    "Patients         3 6 5 3 2 \n",
    "\n",
    "Usage                 12 4         = 16\n",
    "```\n",
    "3 new patients come the next day and get there first day of dose meanwhile the previous 2 patients get there second day of dose so total units used on tuesday is 16\n",
    "\n",
    "Similarly we calculate on other days as well\n",
    "\n",
    "```\n",
    "Wednesday\n",
    "---------------------------\n",
    "Rooms                  4 2 1\n",
    "Patients           3 6 5 3 2 \n",
    "\n",
    "Usage                 20 6 2       = 28\n",
    "```\n",
    "\n",
    "\n",
    "```\n",
    "Thursday\n",
    "---------------------------\n",
    "Rooms                  4  2 1\n",
    "Patients             3 6  5 3 2 \n",
    "\n",
    "Usage                 24 10 3       = 37\n",
    "```\n",
    "\n",
    "\n",
    "```\n",
    "Friday\n",
    "---------------------------\n",
    "Rooms                  4  2 1\n",
    "Patients               3  6 5 3 2 \n",
    "\n",
    "Usage                 12 12 5       = 29\n",
    "```\n",
    "\n",
    "\n",
    "```\n",
    "Saturday\n",
    "---------------------------\n",
    "Rooms                  4 2 1\n",
    "Patients                 3 6 5 3 2 \n",
    "\n",
    "Usage                    6 6       = 12\n",
    "```\n",
    "\n",
    "\n",
    "```\n",
    "Sunday\n",
    "---------------------------\n",
    "Rooms                  4 2 1\n",
    "Patients                   3 6 5 3 2 \n",
    "\n",
    "Usage                      3       = 3\n",
    "```\n",
    "\n",
    "\n",
    "So the per day usage over the period of a week is `[8, 16, 28, 37, 29, 12, 3]`.\n",
    "\n",
    "This is the convolution of dosage plan and patient list. We have used two functions (plan and patient frequency) to produce a third list which contains a total doses per day."
   ]
  },
  {
   "cell_type": "code",
   "execution_count": 31,
   "metadata": {},
   "outputs": [
    {
     "data": {
      "text/plain": [
       "[8, 16, 28, 37, 29, 12, 3]"
      ]
     },
     "execution_count": 31,
     "metadata": {},
     "output_type": "execute_result"
    }
   ],
   "source": [
    "def pad(x1, x2):\n",
    "    l1, l2 = len(x1), len(x2)\n",
    "    num_zeros_x1 = l2 - 1\n",
    "    num_zeros_x2 = l1 - 1\n",
    "    return ([0]*num_zeros_x1) + (x1), x2 + ([0]*num_zeros_x2)\n",
    "\n",
    "def find_num_conv(x1, x2):\n",
    "    return len(x1) + len(x2) - 1\n",
    "\n",
    "plan = [4, 2, 1]\n",
    "patients = [2, 3, 5, 6, 3]\n",
    "patients = patients[::-1]\n",
    "num_conv = find_num_conv(plan, patients)\n",
    "plan, patients = pad(plan, patients)\n",
    "plan_2, patients_2 = plan[3:].copy(), patients[::-1][2:].copy()\n",
    "num_dose = []\n",
    "for i in range(num_conv):\n",
    "    # print(plan)\n",
    "    # print(patients)\n",
    "    num_dose.append(np.sum(np.multiply(plan, patients)))\n",
    "    # print(num_dose)\n",
    "    patients = [0] + patients[:-1]\n",
    "    # print()\n",
    "num_dose"
   ]
  },
  {
   "cell_type": "code",
   "execution_count": 33,
   "metadata": {},
   "outputs": [
    {
     "data": {
      "text/plain": [
       "[<matplotlib.lines.Line2D at 0x1e1dd512910>]"
      ]
     },
     "execution_count": 33,
     "metadata": {},
     "output_type": "execute_result"
    },
    {
     "data": {
      "image/png": "[encoded data removed]",
      "text/plain": [
       "<Figure size 640x480 with 1 Axes>"
      ]
     },
     "metadata": {},
     "output_type": "display_data"
    }
   ],
   "source": [
    "plt.plot(plan_2)\n",
    "plt.plot(patients_2)\n",
    "plt.plot(num_dose)"
   ]
  },
  {
   "attachments": {},
   "cell_type": "markdown",
   "metadata": {},
   "source": [
    "## Integration Calculation \n",
    "\n",
    "To convolve a kernel ($f$) with an input signal $g$ - \n",
    "- We first reverse the input signal so that the first element in the list $g$ is processed first by sliding it into the kernel $f$. \n",
    "- The input signal $g(x)$ now becomes $g(-x)$ and to move to a desired time we add $t$ units to $x$.\n",
    "\n",
    "So for a given time $t$.\n",
    "- $f(t)$ is the kernel\n",
    "- $g(-x + t)$ is the input signal\n",
    "\n",
    "To get the convolved value at time $t$ we sum (or integrate) over $\\forall$ $x$ $\\in \\{-\\infty, \\infty\\}$.\n",
    "\n",
    "Hence we get the following formula - \n",
    "\n",
    "$$\n",
    "f*g(x)= \\int_{-\\infty}^{\\infty} f(\\tau)g(x - \\tau)d\\tau\n",
    "$$\n",
    "\n",
    "**To convolve a kernel with an input signal: flip the signal, move to the desired time, and accumulate for all the interactions with the kernel.**\n",
    "\n"
   ]
  },
  {
   "attachments": {},
   "cell_type": "markdown",
   "metadata": {},
   "source": []
  }
 ],
 "metadata": {
  "kernelspec": {
   "display_name": "gml",
   "language": "python",
   "name": "python3"
  },
  "language_info": {
   "codemirror_mode": {
    "name": "ipython",
    "version": 3
   },
   "file_extension": ".py",
   "mimetype": "text/x-python",
   "name": "python",
   "nbconvert_exporter": "python",
   "pygments_lexer": "ipython3",
   "version": "3.8.16"
  },
  "orig_nbformat": 4
 },
 "nbformat": 4,
 "nbformat_minor": 2
}
