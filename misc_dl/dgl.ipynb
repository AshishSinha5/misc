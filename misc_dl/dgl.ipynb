{
 "cells": [
  {
   "cell_type": "code",
   "execution_count": 2,
   "metadata": {},
   "outputs": [
    {
     "name": "stderr",
     "output_type": "stream",
     "text": [
      "DGL backend not selected or invalid.  Assuming PyTorch for now.\n"
     ]
    },
    {
     "name": "stdout",
     "output_type": "stream",
     "text": [
      "Setting the default backend to \"pytorch\". You can change it in the ~/.dgl/config.json file or export the DGLBACKEND environment variable.  Valid options are: pytorch, mxnet, tensorflow (all lowercase)\n"
     ]
    }
   ],
   "source": [
    "import numpy as np\n",
    "import matplotlib.pyplot as plt\n",
    "import dgl\n",
    "import torch"
   ]
  },
  {
   "cell_type": "code",
   "execution_count": 11,
   "metadata": {},
   "outputs": [],
   "source": [
    "# create a graph \n",
    "g = dgl.graph(([0, 0, 0, 1, 0], [1, 2, 3, 4, 5]), num_nodes=7)\n"
   ]
  },
  {
   "cell_type": "code",
   "execution_count": 12,
   "metadata": {},
   "outputs": [
    {
     "data": {
      "image/png": "[encoded data removed]",
      "text/plain": [
       "<Figure size 640x480 with 1 Axes>"
      ]
     },
     "metadata": {},
     "output_type": "display_data"
    }
   ],
   "source": [
    "# use networkx to visualize\n",
    "import networkx as nx\n",
    "nx.draw_networkx(g.to_networkx(), node_size=500, node_color=[[.5, .5, .5,]])\n",
    "plt.show()\n"
   ]
  },
  {
   "cell_type": "code",
   "execution_count": 17,
   "metadata": {},
   "outputs": [
    {
     "data": {
      "text/plain": [
       "(tensor([0, 4, 5, 5, 5, 5, 5, 5]),\n",
       " tensor([1, 2, 3, 5, 4]),\n",
       " tensor([0, 1, 2, 4, 3]))"
      ]
     },
     "execution_count": 17,
     "metadata": {},
     "output_type": "execute_result"
    }
   ],
   "source": [
    "g.adj_tensors(fmt = \"csr\")"
   ]
  },
  {
   "cell_type": "code",
   "execution_count": 23,
   "metadata": {},
   "outputs": [
    {
     "name": "stdout",
     "output_type": "stream",
     "text": [
      "tensor([[ 0.0347, -0.4749],\n",
      "        [ 0.8504,  0.4706],\n",
      "        [-0.9453, -0.4326],\n",
      "        [ 0.2144, -0.2254],\n",
      "        [-0.8092,  2.1193]])\n"
     ]
    }
   ],
   "source": [
    "# add 3 dimensional feature vectors for each node\n",
    "g.ndata['x'] = torch.randn(7, 3)\n",
    "# add 2 dimensional feature vectors for each edge\n",
    "g.edata['w'] = torch.randn(5, 2)\n",
    "# add 3*4 dimensional feature vectors for each node\n",
    "g.ndata['y'] = torch.randn(7, 3, 4)\n",
    "\n",
    "print(g.edata['w'])"
   ]
  },
  {
   "cell_type": "code",
   "execution_count": 27,
   "metadata": {},
   "outputs": [
    {
     "ename": "AttributeError",
     "evalue": "'DGLGraph' object has no attribute 'copy_from_parent'",
     "output_type": "error",
     "traceback": [
      "\u001b[1;31m---------------------------------------------------------------------------\u001b[0m",
      "\u001b[1;31mAttributeError\u001b[0m                            Traceback (most recent call last)",
      "Input \u001b[1;32mIn [27]\u001b[0m, in \u001b[0;36m<cell line: 4>\u001b[1;34m()\u001b[0m\n\u001b[0;32m      2\u001b[0m sg1 \u001b[38;5;241m=\u001b[39m g\u001b[38;5;241m.\u001b[39msubgraph([\u001b[38;5;241m0\u001b[39m, \u001b[38;5;241m1\u001b[39m, \u001b[38;5;241m3\u001b[39m, \u001b[38;5;241m6\u001b[39m], relabel_nodes\u001b[38;5;241m=\u001b[39m\u001b[38;5;28;01mFalse\u001b[39;00m)\n\u001b[0;32m      3\u001b[0m \u001b[38;5;66;03m# update the node id to same as original graph\u001b[39;00m\n\u001b[1;32m----> 4\u001b[0m \u001b[43msg1\u001b[49m\u001b[38;5;241;43m.\u001b[39;49m\u001b[43mcopy_from_parent\u001b[49m()\n\u001b[0;32m      7\u001b[0m \u001b[38;5;66;03m# visualize the subgraph\u001b[39;00m\n\u001b[0;32m      8\u001b[0m nx\u001b[38;5;241m.\u001b[39mdraw_networkx(sg1\u001b[38;5;241m.\u001b[39mto_networkx(), node_size\u001b[38;5;241m=\u001b[39m\u001b[38;5;241m500\u001b[39m, node_color\u001b[38;5;241m=\u001b[39m[[\u001b[38;5;241m.5\u001b[39m, \u001b[38;5;241m.5\u001b[39m, \u001b[38;5;241m.5\u001b[39m,]])\n",
      "\u001b[1;31mAttributeError\u001b[0m: 'DGLGraph' object has no attribute 'copy_from_parent'"
     ]
    }
   ],
   "source": [
    "# create a subgraph from node 0, 1, 3, 6\n",
    "sg1 = g.subgraph([0, 1, 3, 6], relabel_nodes=False)\n",
    "\n",
    "# visualize the subgraph\n",
    "nx.draw_networkx(sg1.to_networkx(), node_size=500, node_color=[[.5, .5, .5,]])\n",
    "plt.show()"
   ]
  },
  {
   "cell_type": "code",
   "execution_count": null,
   "metadata": {},
   "outputs": [],
   "source": []
  }
 ],
 "metadata": {
  "kernelspec": {
   "display_name": "gml",
   "language": "python",
   "name": "python3"
  },
  "language_info": {
   "codemirror_mode": {
    "name": "ipython",
    "version": 3
   },
   "file_extension": ".py",
   "mimetype": "text/x-python",
   "name": "python",
   "nbconvert_exporter": "python",
   "pygments_lexer": "ipython3",
   "version": "3.8.16"
  }
 },
 "nbformat": 4,
 "nbformat_minor": 2
}
