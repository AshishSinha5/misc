{
 "cells": [
  {
   "cell_type": "code",
   "execution_count": 1,
   "metadata": {},
   "outputs": [],
   "source": [
    "import os\n",
    "import os\n",
    "os.environ[\"PATH\"] += os.pathsep + 'C:/Program Files/Graphviz/bin/'"
   ]
  },
  {
   "cell_type": "code",
   "execution_count": 2,
   "metadata": {},
   "outputs": [],
   "source": [
    "import math\n",
    "import numpy as np\n",
    "import matplotlib.pyplot as plt"
   ]
  },
  {
   "cell_type": "code",
   "execution_count": 3,
   "metadata": {},
   "outputs": [],
   "source": [
    "def f(x):\n",
    "    return 3*x**2 - 4*x + 5"
   ]
  },
  {
   "cell_type": "code",
   "execution_count": 4,
   "metadata": {},
   "outputs": [
    {
     "data": {
      "text/plain": [
       "[<matplotlib.lines.Line2D at 0x19567ecb8b0>]"
      ]
     },
     "execution_count": 4,
     "metadata": {},
     "output_type": "execute_result"
    },
    {
     "data": {
      "image/png": "[encoded data removed]",
      "text/plain": [
       "<Figure size 640x480 with 1 Axes>"
      ]
     },
     "metadata": {},
     "output_type": "display_data"
    }
   ],
   "source": [
    "arr = np.arange(-20, 20, 1)\n",
    "plt.plot(arr, f(arr))"
   ]
  },
  {
   "cell_type": "code",
   "execution_count": 5,
   "metadata": {},
   "outputs": [
    {
     "data": {
      "text/plain": [
       "7.999999951380232"
      ]
     },
     "execution_count": 5,
     "metadata": {},
     "output_type": "execute_result"
    }
   ],
   "source": [
    "h = 0.00000001\n",
    "x = 2\n",
    "(f(x+h) - f(x))/h"
   ]
  },
  {
   "cell_type": "code",
   "execution_count": 6,
   "metadata": {},
   "outputs": [
    {
     "name": "stdout",
     "output_type": "stream",
     "text": [
      "4.0\n"
     ]
    }
   ],
   "source": [
    "# bit more complex\n",
    "a = 2.0\n",
    "b = -3.0\n",
    "c = 10.0\n",
    "d = a*b + c\n",
    "print(d)"
   ]
  },
  {
   "cell_type": "code",
   "execution_count": 7,
   "metadata": {},
   "outputs": [
    {
     "name": "stdout",
     "output_type": "stream",
     "text": [
      "d1=4.0\n",
      "d2=4.0002\n",
      "(d2 - d1)/h=2.0000000000042206\n"
     ]
    }
   ],
   "source": [
    "# derivative of d w.r.t a, b and c\n",
    "\n",
    "h = 0.0001\n",
    "\n",
    "# input values \n",
    "a = 2.0\n",
    "b = -3.0\n",
    "c = 10.0\n",
    "\n",
    "d1 = a*b + c\n",
    "b+=h\n",
    "d2 = a*b + c\n",
    "\n",
    "print(f\"{d1=}\\n{d2=}\")\n",
    "print(f\"{(d2 - d1)/h=}\")"
   ]
  },
  {
   "cell_type": "code",
   "execution_count": 43,
   "metadata": {},
   "outputs": [
    {
     "data": {
      "text/plain": [
       "Value(data=-8.0)"
      ]
     },
     "execution_count": 43,
     "metadata": {},
     "output_type": "execute_result"
    }
   ],
   "source": [
    "# creating a value object - data structure to store the derivatives\n",
    "class Value:\n",
    "    def __init__(self, data, _children = (), _op='', label = ''):\n",
    "        self.data = data\n",
    "        self.grad = 0.0\n",
    "        self._prev = set(_children)\n",
    "        self._op = _op\n",
    "        self.label = label\n",
    "    \n",
    "    def __repr__(self):\n",
    "        return f\"Value(data={self.data})\"\n",
    "    \n",
    "    def __add__(self, other):\n",
    "        out = Value(self.data + other.data, (self, other), \"+\", )\n",
    "        return out\n",
    "    \n",
    "    def __mul__(self, other):\n",
    "        out = Value(self.data * other.data, (self, other), '*')\n",
    "        return out\n",
    "\n",
    "    \n",
    "a = Value(2.0, label='a')\n",
    "b = Value(-3.0, label = 'b')\n",
    "c = Value(10.0, label='c')\n",
    "e = a*b;e.label = 'e'\n",
    "d = e + c;d.label = 'd'\n",
    "f = Value(-2.0, label='f')\n",
    "L = d * f;L.label = 'L'\n",
    "# print(d)\n",
    "# print(d._prev) # d was produced by the a*b and c\n",
    "# print(d._op) # d was produced by the addition of a*b and c\n",
    "L\n"
   ]
  },
  {
   "cell_type": "code",
   "execution_count": 44,
   "metadata": {},
   "outputs": [],
   "source": [
    "from graphviz import Digraph\n",
    "\n",
    "def trace(root):\n",
    "    # builds a set of all nodes and edges in the graph \n",
    "    nodes, edges = set(), set()\n",
    "    def build(v):\n",
    "        if v not in nodes:\n",
    "            nodes.add(v)\n",
    "            for child in v._prev:\n",
    "                edges.add((child, v))\n",
    "                build(child)\n",
    "    build(root)\n",
    "    return nodes, edges\n",
    "\n",
    "def draw_dot(root):\n",
    "    dot = Digraph(format = 'svg', graph_attr={'rankdir': 'LR'})\n",
    "\n",
    "    nodes, edges = trace(root)\n",
    "    for n in nodes:\n",
    "        uid = str(id(n))\n",
    "        dot.node(name = uid, label = f\"{n.label} | data {n.data:.4f} | grad {n.grad:.4f} \", shape = \"record\")\n",
    "        if n._op:\n",
    "            dot.node(name = uid + n._op, label = n._op)\n",
    "            dot.edge(uid + n._op, uid)\n",
    "    \n",
    "    for n1, n2 in edges:\n",
    "        dot.edge(str(id(n1)), str(id(n2)) + n2._op)\n",
    "\n",
    "    return dot"
   ]
  },
  {
   "cell_type": "code",
   "execution_count": 45,
   "metadata": {},
   "outputs": [
    {
     "data": {
      "image/svg+xml": [
       "<?xml version=\"1.0\" encoding=\"UTF-8\" standalone=\"no\"?>\n",
       "<!DOCTYPE svg PUBLIC \"-//W3C//DTD SVG 1.1//EN\"\n",
       " \"http://www.w3.org/Graphics/SVG/1.1/DTD/svg11.dtd\">\n",
       "<!-- Generated by graphviz version 9.0.0 (20230911.1827)\n",
       " -->\n",
       "<!-- Pages: 1 -->\n",
       "<svg width=\"728pt\" height=\"215pt\"\n",
       " viewBox=\"0.00 0.00 728.25 215.25\" xmlns=\"http://www.w3.org/2000/svg\" xmlns:xlink=\"http://www.w3.org/1999/xlink\">\n",
       "<g id=\"graph0\" class=\"graph\" transform=\"scale(1 1) rotate(0) translate(4 211.25)\">\n",
       "<polygon fill=\"white\" stroke=\"none\" points=\"-4,4 -4,-211.25 724.25,-211.25 724.25,4 -4,4\"/>\n",
       "<!-- 1741217442448 -->\n",
       "<g id=\"node1\" class=\"node\">\n",
       "<title>1741217442448</title>\n",
       "<polygon fill=\"none\" stroke=\"black\" points=\"635.25,-90.5 635.25,-161.75 720.25,-161.75 720.25,-90.5 635.25,-90.5\"/>\n",
       "<text text-anchor=\"middle\" x=\"677.75\" y=\"-144.45\" font-family=\"Times New Roman,serif\" font-size=\"14.00\">L</text>\n",
       "<polyline fill=\"none\" stroke=\"black\" points=\"635.25,-138 720.25,-138\"/>\n",
       "<text text-anchor=\"middle\" x=\"677.75\" y=\"-120.7\" font-family=\"Times New Roman,serif\" font-size=\"14.00\">data &#45;8.0000</text>\n",
       "<polyline fill=\"none\" stroke=\"black\" points=\"635.25,-114.25 720.25,-114.25\"/>\n",
       "<text text-anchor=\"middle\" x=\"677.75\" y=\"-96.95\" font-family=\"Times New Roman,serif\" font-size=\"14.00\">grad 0.0000</text>\n",
       "</g>\n",
       "<!-- 1741217442448* -->\n",
       "<g id=\"node2\" class=\"node\">\n",
       "<title>1741217442448*</title>\n",
       "<ellipse fill=\"none\" stroke=\"black\" cx=\"572.25\" cy=\"-126.12\" rx=\"27\" ry=\"18\"/>\n",
       "<text text-anchor=\"middle\" x=\"572.25\" y=\"-120.7\" font-family=\"Times New Roman,serif\" font-size=\"14.00\">*</text>\n",
       "</g>\n",
       "<!-- 1741217442448*&#45;&gt;1741217442448 -->\n",
       "<g id=\"edge1\" class=\"edge\">\n",
       "<title>1741217442448*&#45;&gt;1741217442448</title>\n",
       "<path fill=\"none\" stroke=\"black\" d=\"M599.64,-126.12C607.05,-126.12 615.38,-126.12 623.76,-126.12\"/>\n",
       "<polygon fill=\"black\" stroke=\"black\" points=\"623.61,-129.63 633.61,-126.13 623.61,-122.63 623.61,-129.63\"/>\n",
       "</g>\n",
       "<!-- 1741217443696 -->\n",
       "<g id=\"node3\" class=\"node\">\n",
       "<title>1741217443696</title>\n",
       "<polygon fill=\"none\" stroke=\"black\" points=\"1.5,-135.5 1.5,-206.75 83.5,-206.75 83.5,-135.5 1.5,-135.5\"/>\n",
       "<text text-anchor=\"middle\" x=\"42.5\" y=\"-189.45\" font-family=\"Times New Roman,serif\" font-size=\"14.00\">a</text>\n",
       "<polyline fill=\"none\" stroke=\"black\" points=\"1.5,-183 83.5,-183\"/>\n",
       "<text text-anchor=\"middle\" x=\"42.5\" y=\"-165.7\" font-family=\"Times New Roman,serif\" font-size=\"14.00\">data 2.0000</text>\n",
       "<polyline fill=\"none\" stroke=\"black\" points=\"1.5,-159.25 83.5,-159.25\"/>\n",
       "<text text-anchor=\"middle\" x=\"42.5\" y=\"-141.95\" font-family=\"Times New Roman,serif\" font-size=\"14.00\">grad 0.0000</text>\n",
       "</g>\n",
       "<!-- 1741217440144* -->\n",
       "<g id=\"node5\" class=\"node\">\n",
       "<title>1741217440144*</title>\n",
       "<ellipse fill=\"none\" stroke=\"black\" cx=\"148\" cy=\"-126.12\" rx=\"27\" ry=\"18\"/>\n",
       "<text text-anchor=\"middle\" x=\"148\" y=\"-120.7\" font-family=\"Times New Roman,serif\" font-size=\"14.00\">*</text>\n",
       "</g>\n",
       "<!-- 1741217443696&#45;&gt;1741217440144* -->\n",
       "<g id=\"edge9\" class=\"edge\">\n",
       "<title>1741217443696&#45;&gt;1741217440144*</title>\n",
       "<path fill=\"none\" stroke=\"black\" d=\"M83.81,-153.6C93.96,-149.19 104.72,-144.51 114.43,-140.29\"/>\n",
       "<polygon fill=\"black\" stroke=\"black\" points=\"115.7,-143.55 123.47,-136.35 112.91,-137.13 115.7,-143.55\"/>\n",
       "</g>\n",
       "<!-- 1741217440144 -->\n",
       "<g id=\"node4\" class=\"node\">\n",
       "<title>1741217440144</title>\n",
       "<polygon fill=\"none\" stroke=\"black\" points=\"212.12,-90.5 212.12,-161.75 297.12,-161.75 297.12,-90.5 212.12,-90.5\"/>\n",
       "<text text-anchor=\"middle\" x=\"254.62\" y=\"-144.45\" font-family=\"Times New Roman,serif\" font-size=\"14.00\">e</text>\n",
       "<polyline fill=\"none\" stroke=\"black\" points=\"212.12,-138 297.12,-138\"/>\n",
       "<text text-anchor=\"middle\" x=\"254.62\" y=\"-120.7\" font-family=\"Times New Roman,serif\" font-size=\"14.00\">data &#45;6.0000</text>\n",
       "<polyline fill=\"none\" stroke=\"black\" points=\"212.12,-114.25 297.12,-114.25\"/>\n",
       "<text text-anchor=\"middle\" x=\"254.62\" y=\"-96.95\" font-family=\"Times New Roman,serif\" font-size=\"14.00\">grad 0.0000</text>\n",
       "</g>\n",
       "<!-- 1741217442160+ -->\n",
       "<g id=\"node9\" class=\"node\">\n",
       "<title>1741217442160+</title>\n",
       "<ellipse fill=\"none\" stroke=\"black\" cx=\"361.25\" cy=\"-81.12\" rx=\"27\" ry=\"18\"/>\n",
       "<text text-anchor=\"middle\" x=\"361.25\" y=\"-75.7\" font-family=\"Times New Roman,serif\" font-size=\"14.00\">+</text>\n",
       "</g>\n",
       "<!-- 1741217440144&#45;&gt;1741217442160+ -->\n",
       "<g id=\"edge8\" class=\"edge\">\n",
       "<title>1741217440144&#45;&gt;1741217442160+</title>\n",
       "<path fill=\"none\" stroke=\"black\" d=\"M297.58,-108.08C307.47,-103.83 317.87,-99.35 327.3,-95.3\"/>\n",
       "<polygon fill=\"black\" stroke=\"black\" points=\"328.63,-98.54 336.43,-91.37 325.86,-92.1 328.63,-98.54\"/>\n",
       "</g>\n",
       "<!-- 1741217440144*&#45;&gt;1741217440144 -->\n",
       "<g id=\"edge2\" class=\"edge\">\n",
       "<title>1741217440144*&#45;&gt;1741217440144</title>\n",
       "<path fill=\"none\" stroke=\"black\" d=\"M175.4,-126.12C183.06,-126.12 191.71,-126.12 200.4,-126.12\"/>\n",
       "<polygon fill=\"black\" stroke=\"black\" points=\"200.24,-129.63 210.24,-126.13 200.24,-122.63 200.24,-129.63\"/>\n",
       "</g>\n",
       "<!-- 1741217443120 -->\n",
       "<g id=\"node6\" class=\"node\">\n",
       "<title>1741217443120</title>\n",
       "<polygon fill=\"none\" stroke=\"black\" points=\"424.25,-135.5 424.25,-206.75 509.25,-206.75 509.25,-135.5 424.25,-135.5\"/>\n",
       "<text text-anchor=\"middle\" x=\"466.75\" y=\"-189.45\" font-family=\"Times New Roman,serif\" font-size=\"14.00\">f</text>\n",
       "<polyline fill=\"none\" stroke=\"black\" points=\"424.25,-183 509.25,-183\"/>\n",
       "<text text-anchor=\"middle\" x=\"466.75\" y=\"-165.7\" font-family=\"Times New Roman,serif\" font-size=\"14.00\">data &#45;2.0000</text>\n",
       "<polyline fill=\"none\" stroke=\"black\" points=\"424.25,-159.25 509.25,-159.25\"/>\n",
       "<text text-anchor=\"middle\" x=\"466.75\" y=\"-141.95\" font-family=\"Times New Roman,serif\" font-size=\"14.00\">grad 0.0000</text>\n",
       "</g>\n",
       "<!-- 1741217443120&#45;&gt;1741217442448* -->\n",
       "<g id=\"edge6\" class=\"edge\">\n",
       "<title>1741217443120&#45;&gt;1741217442448*</title>\n",
       "<path fill=\"none\" stroke=\"black\" d=\"M509.55,-152.95C519.23,-148.74 529.39,-144.33 538.61,-140.32\"/>\n",
       "<polygon fill=\"black\" stroke=\"black\" points=\"539.75,-143.64 547.52,-136.44 536.96,-137.22 539.75,-143.64\"/>\n",
       "</g>\n",
       "<!-- 1741217443216 -->\n",
       "<g id=\"node7\" class=\"node\">\n",
       "<title>1741217443216</title>\n",
       "<polygon fill=\"none\" stroke=\"black\" points=\"211,-0.5 211,-71.75 298.25,-71.75 298.25,-0.5 211,-0.5\"/>\n",
       "<text text-anchor=\"middle\" x=\"254.62\" y=\"-54.45\" font-family=\"Times New Roman,serif\" font-size=\"14.00\">c</text>\n",
       "<polyline fill=\"none\" stroke=\"black\" points=\"211,-48 298.25,-48\"/>\n",
       "<text text-anchor=\"middle\" x=\"254.62\" y=\"-30.7\" font-family=\"Times New Roman,serif\" font-size=\"14.00\">data 10.0000</text>\n",
       "<polyline fill=\"none\" stroke=\"black\" points=\"211,-24.25 298.25,-24.25\"/>\n",
       "<text text-anchor=\"middle\" x=\"254.62\" y=\"-6.95\" font-family=\"Times New Roman,serif\" font-size=\"14.00\">grad 0.0000</text>\n",
       "</g>\n",
       "<!-- 1741217443216&#45;&gt;1741217442160+ -->\n",
       "<g id=\"edge7\" class=\"edge\">\n",
       "<title>1741217443216&#45;&gt;1741217442160+</title>\n",
       "<path fill=\"none\" stroke=\"black\" d=\"M298.48,-54.56C308.22,-58.75 318.4,-63.13 327.63,-67.1\"/>\n",
       "<polygon fill=\"black\" stroke=\"black\" points=\"325.98,-70.2 336.55,-70.93 328.75,-63.77 325.98,-70.2\"/>\n",
       "</g>\n",
       "<!-- 1741217442160 -->\n",
       "<g id=\"node8\" class=\"node\">\n",
       "<title>1741217442160</title>\n",
       "<polygon fill=\"none\" stroke=\"black\" points=\"425.75,-45.5 425.75,-116.75 507.75,-116.75 507.75,-45.5 425.75,-45.5\"/>\n",
       "<text text-anchor=\"middle\" x=\"466.75\" y=\"-99.45\" font-family=\"Times New Roman,serif\" font-size=\"14.00\">d</text>\n",
       "<polyline fill=\"none\" stroke=\"black\" points=\"425.75,-93 507.75,-93\"/>\n",
       "<text text-anchor=\"middle\" x=\"466.75\" y=\"-75.7\" font-family=\"Times New Roman,serif\" font-size=\"14.00\">data 4.0000</text>\n",
       "<polyline fill=\"none\" stroke=\"black\" points=\"425.75,-69.25 507.75,-69.25\"/>\n",
       "<text text-anchor=\"middle\" x=\"466.75\" y=\"-51.95\" font-family=\"Times New Roman,serif\" font-size=\"14.00\">grad 0.0000</text>\n",
       "</g>\n",
       "<!-- 1741217442160&#45;&gt;1741217442448* -->\n",
       "<g id=\"edge4\" class=\"edge\">\n",
       "<title>1741217442160&#45;&gt;1741217442448*</title>\n",
       "<path fill=\"none\" stroke=\"black\" d=\"M508.06,-98.65C518.21,-103.06 528.97,-107.74 538.68,-111.96\"/>\n",
       "<polygon fill=\"black\" stroke=\"black\" points=\"537.16,-115.12 547.72,-115.9 539.95,-108.7 537.16,-115.12\"/>\n",
       "</g>\n",
       "<!-- 1741217442160+&#45;&gt;1741217442160 -->\n",
       "<g id=\"edge3\" class=\"edge\">\n",
       "<title>1741217442160+&#45;&gt;1741217442160</title>\n",
       "<path fill=\"none\" stroke=\"black\" d=\"M388.64,-81.12C396.38,-81.12 405.13,-81.12 413.89,-81.12\"/>\n",
       "<polygon fill=\"black\" stroke=\"black\" points=\"413.81,-84.63 423.81,-81.13 413.81,-77.63 413.81,-84.63\"/>\n",
       "</g>\n",
       "<!-- 1741217441680 -->\n",
       "<g id=\"node10\" class=\"node\">\n",
       "<title>1741217441680</title>\n",
       "<polygon fill=\"none\" stroke=\"black\" points=\"0,-45.5 0,-116.75 85,-116.75 85,-45.5 0,-45.5\"/>\n",
       "<text text-anchor=\"middle\" x=\"42.5\" y=\"-99.45\" font-family=\"Times New Roman,serif\" font-size=\"14.00\">b</text>\n",
       "<polyline fill=\"none\" stroke=\"black\" points=\"0,-93 85,-93\"/>\n",
       "<text text-anchor=\"middle\" x=\"42.5\" y=\"-75.7\" font-family=\"Times New Roman,serif\" font-size=\"14.00\">data &#45;3.0000</text>\n",
       "<polyline fill=\"none\" stroke=\"black\" points=\"0,-69.25 85,-69.25\"/>\n",
       "<text text-anchor=\"middle\" x=\"42.5\" y=\"-51.95\" font-family=\"Times New Roman,serif\" font-size=\"14.00\">grad 0.0000</text>\n",
       "</g>\n",
       "<!-- 1741217441680&#45;&gt;1741217440144* -->\n",
       "<g id=\"edge5\" class=\"edge\">\n",
       "<title>1741217441680&#45;&gt;1741217440144*</title>\n",
       "<path fill=\"none\" stroke=\"black\" d=\"M85.3,-99.3C94.98,-103.51 105.14,-107.92 114.36,-111.93\"/>\n",
       "<polygon fill=\"black\" stroke=\"black\" points=\"112.71,-115.03 123.27,-115.81 115.5,-108.61 112.71,-115.03\"/>\n",
       "</g>\n",
       "</g>\n",
       "</svg>\n"
      ],
      "text/plain": [
       "<graphviz.graphs.Digraph at 0x19568727730>"
      ]
     },
     "execution_count": 45,
     "metadata": {},
     "output_type": "execute_result"
    }
   ],
   "source": [
    "draw_dot(L)"
   ]
  },
  {
   "cell_type": "code",
   "execution_count": null,
   "metadata": {},
   "outputs": [],
   "source": []
  }
 ],
 "metadata": {
  "kernelspec": {
   "display_name": "gml",
   "language": "python",
   "name": "python3"
  },
  "language_info": {
   "codemirror_mode": {
    "name": "ipython",
    "version": 3
   },
   "file_extension": ".py",
   "mimetype": "text/x-python",
   "name": "python",
   "nbconvert_exporter": "python",
   "pygments_lexer": "ipython3",
   "version": "0.0.0"
  }
 },
 "nbformat": 4,
 "nbformat_minor": 2
}
