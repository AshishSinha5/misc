{
 "cells": [
  {
   "cell_type": "code",
   "execution_count": 1,
   "metadata": {},
   "outputs": [],
   "source": [
    "import json \n",
    "import numpy as np\n",
    "import pandas as pd\n",
    "import matplotlib.pyplot as plt\n",
    "import seaborn as sns\n",
    "from pprint import pprint\n",
    "import nltk"
   ]
  },
  {
   "cell_type": "code",
   "execution_count": 2,
   "metadata": {},
   "outputs": [
    {
     "name": "stderr",
     "output_type": "stream",
     "text": [
      "[nltk_data] Error loading punkt: <urlopen error [Errno 101] Network is\n",
      "[nltk_data]     unreachable>\n"
     ]
    },
    {
     "data": {
      "text/plain": [
       "False"
      ]
     },
     "execution_count": 2,
     "metadata": {},
     "output_type": "execute_result"
    }
   ],
   "source": [
    "nltk.download('punkt')"
   ]
  },
  {
   "cell_type": "code",
   "execution_count": 102,
   "metadata": {},
   "outputs": [
    {
     "name": "stdout",
     "output_type": "stream",
     "text": [
      "                       Language is never, ever, ever, random\n",
      "\n",
      "                                                               ADAM KILGARRIFF\n",
      "\n",
      "\n",
      "\n",
      "\n",
      "Abstract\n",
      "Language users never choose words randomly, and language is essentially\n",
      "non-random. Statistical hypothesis testing uses a null hypothesis, which\n",
      "posits randomness. Hence, when we look at linguistic phenomena in cor-\n",
      "pora, the null hypothesis will never be true. Moreover, where there is enough\n",
      "data, we shall (almost) always be able to establish that it is not true. In\n",
      "corpus studies, we frequently do have enough data, so the fact that a rela-\n",
      "tion between two phenomena is demonstrably non-random, does not sup-\n",
      "port the inference that it is not arbitrary. We present experimental evidence\n",
      "of how arbitrary associations between word frequencies and corpora are\n",
      "systematically non-random. We review literature in which hypothesis test-\n",
      "ing has been used, and show how it has often led to unhelpful or mislead-\n",
      "ing results.\n",
      "Keywords: 쎲쎲쎲\n",
      "\n",
      "1. Int\n"
     ]
    }
   ],
   "source": [
    "# load the text file in utf-8 encoding\n",
    "with open('data/language-never-random.txt', 'r', encoding='utf-8') as f:\n",
    "    text = f.read()\n",
    "\n",
    "# print the first 1000 characters\n",
    "print(text[:1000])\n"
   ]
  },
  {
   "cell_type": "code",
   "execution_count": 103,
   "metadata": {},
   "outputs": [
    {
     "name": "stdout",
     "output_type": "stream",
     "text": [
      "                       language is never, ever, ever, random\n",
      "\n",
      "                                                               adam kilgarriff\n",
      "\n",
      "\n",
      "\n",
      "\n",
      "abstract\n",
      "language users never choose words randomly, and language is essentially\n",
      "non-random. statistical hypothesis testing uses a null hypothesis, which\n",
      "posits randomness. hence, when we look at linguistic phenomena in cor-\n",
      "pora, the null hypothesis will never be true. moreover, where there is enough\n",
      "data, we shall (almost) always be able to establish that it is not true. in\n",
      "corpus studies, we frequently do have enough data, so the fact that a rela-\n",
      "tion between two phenomena is demonstrably non-random, does not sup-\n",
      "port the inference that it is not arbitrary. we present experimental evidence\n",
      "of how arbitrary associations between word frequencies and corpora are\n",
      "systematically non-random. we review literature in which hypothesis test-\n",
      "ing has been used, and show how it has often led to unhelpful or mislead-\n",
      "ing results.\n",
      "keywords: 쎲쎲쎲\n",
      "\n",
      "1. int\n"
     ]
    }
   ],
   "source": [
    "# write functions to clean text and normalize text\n",
    "import re\n",
    "import string\n",
    "from nltk.corpus import stopwords\n",
    "from nltk.stem import WordNetLemmatizer\n",
    "from nltk.tokenize import word_tokenize\n",
    "\n",
    "# convert to lower case\n",
    "def to_lower(text):\n",
    "    return text.lower()\n",
    "\n",
    "# remove punctuation\n",
    "def remove_punctuation(text):\n",
    "    return text.translate(str.maketrans('', '', string.punctuation))\n",
    "\n",
    "# remove numbers\n",
    "def remove_numbers(text):\n",
    "    return re.sub(r'\\d+', '', text)\n",
    "\n",
    "# remove trailing and leading spaces\n",
    "def remove_spaces(text):\n",
    "    return text.strip()\n",
    "\n",
    "# chain all the functions together\n",
    "def normalize(text):\n",
    "    text = to_lower(text)\n",
    "    # text = remove_punctuation(text)\n",
    "    return text\n",
    "\n",
    "# normalize the text\n",
    "text = normalize(text)\n",
    "\n",
    "# print the first 1000 characters\n",
    "print(text[:1000])"
   ]
  },
  {
   "cell_type": "code",
   "execution_count": 104,
   "metadata": {},
   "outputs": [],
   "source": [
    "from nltk.util import pad_sequence, bigrams, trigrams, ngrams\n",
    "from nltk.lm.preprocessing import pad_both_ends, flatten, padded_everygram_pipeline\n",
    "# list(pad_sequence(reviews[0], pad_left=True, pad_right=True, left_pad_symbol='<s>', right_pad_symbol='</s>', n=3))\n",
    "# list(pad_both_ends(reviews[0], n=3))"
   ]
  },
  {
   "cell_type": "code",
   "execution_count": 105,
   "metadata": {},
   "outputs": [
    {
     "name": "stdout",
     "output_type": "stream",
     "text": [
      "                       language is never, ever, ever, random\n",
      "\n",
      "                                                               adam kilgarriff\n",
      "\n",
      "\n",
      "\n",
      "\n",
      "abstract\n",
      "language users never choose words randomly, and language is essentially\n",
      "non-random.\n",
      "train dataset length:  172\n",
      "test dataset length:  43\n",
      "['as', 'table', '4', 'shows', ',', 'average', 'values', 'for', 'the', 'error', 'term', 'are', 'far', 'greater', 'than', '0.5', ',', 'and', 'tend', 'to', 'increase', 'as', 'word', 'frequency', 'increases', '.']\n",
      "['harlow', ':', 'longman', '.']\n"
     ]
    }
   ],
   "source": [
    "# split the text into sentences\n",
    "from nltk.tokenize import sent_tokenize\n",
    "sentences = sent_tokenize(text)\n",
    "# print the first 5 sentences\n",
    "print(sentences[0])\n",
    "# tokenize the first sentences\n",
    "# randomly split the sentences into train and test dataset\n",
    "from sklearn.model_selection import train_test_split\n",
    "train, test = train_test_split(sentences, test_size=0.2, random_state=42)\n",
    "\n",
    "# print the number of sentences in train and test dataset\n",
    "print('train dataset length: ', len(train))\n",
    "print('test dataset length: ', len(test))\n",
    "\n",
    "# create a function to tokenize the sentences\n",
    "def tokenize_sentences(sentences):\n",
    "    tokenized_sentences = []\n",
    "    for sentence in sentences:\n",
    "        tokenized = nltk.word_tokenize(sentence)\n",
    "        tokenized_sentences.append(tokenized)\n",
    "    return tokenized_sentences\n",
    "\n",
    "# tokenize sentences in train and test dataset\n",
    "tokenized_train = tokenize_sentences(train)\n",
    "tokenized_test = tokenize_sentences(test)\n",
    "\n",
    "\n",
    "# print the first tokenized sentence in train dataset\n",
    "print(tokenized_train[0])\n",
    "\n",
    "# print the first tokenized sentence in test dataset\n",
    "print(tokenized_test[0])\n"
   ]
  },
  {
   "cell_type": "code",
   "execution_count": 167,
   "metadata": {},
   "outputs": [],
   "source": [
    "from nltk.lm import MLE, Laplace, KneserNeyInterpolated"
   ]
  },
  {
   "cell_type": "markdown",
   "metadata": {},
   "source": [
    "## Creating the Unigram Model"
   ]
  },
  {
   "cell_type": "code",
   "execution_count": 189,
   "metadata": {},
   "outputs": [],
   "source": [
    "n = 1\n",
    "\n",
    "train_unigram , train_unigram_padded_sents = padded_everygram_pipeline(n, tokenized_train)\n",
    "test_unigram , _= padded_everygram_pipeline(n, tokenized_test)"
   ]
  },
  {
   "cell_type": "code",
   "execution_count": 190,
   "metadata": {},
   "outputs": [],
   "source": [
    "unigram_model = Laplace(order = n)\n",
    "unigram_model.fit(train_unigram, train_unigram_padded_sents)"
   ]
  },
  {
   "cell_type": "code",
   "execution_count": 191,
   "metadata": {},
   "outputs": [
    {
     "name": "stdout",
     "output_type": "stream",
     "text": [
      "Average Perplexity:  512.8440632701563\n",
      "Count of positive perplexity:  43\n"
     ]
    }
   ],
   "source": [
    "import math\n",
    "total_perplexity = 0\n",
    "count = 0\n",
    "test_unigram, _ = padded_everygram_pipeline(n, tokenized_test)\n",
    "for sent in test_unigram:\n",
    "    # calculate the perplexity for each sentence\n",
    "    # print(sent)\n",
    "    # perplexity takes a sequence of n-gram tuples as argument\n",
    "    # we need to convert the sentence to n-gram tuples\n",
    "    # we use pad_both_ends function to add padding to the sentence\n",
    "    # we use bigrams function to convert the sentence to bigram tuples\n",
    "    # we use list function to convert the generator object to list\n",
    "    perplexity = unigram_model.perplexity(sent)\n",
    "    if perplexity == math.inf:\n",
    "        continue\n",
    "    total_perplexity += perplexity\n",
    "    count += 1\n",
    "ave_perplexity = total_perplexity / count\n",
    "print('Average Perplexity: ', ave_perplexity)\n",
    "print('Count of positive perplexity: ', count)\n",
    "\n",
    "unigram_perplexity = ave_perplexity"
   ]
  },
  {
   "cell_type": "markdown",
   "metadata": {},
   "source": [
    "## Creating Bigram Model"
   ]
  },
  {
   "cell_type": "code",
   "execution_count": 192,
   "metadata": {},
   "outputs": [],
   "source": [
    "n = 2\n",
    "\n",
    "train_bigram , train_bigram_padded_sents = padded_everygram_pipeline(n, tokenized_train)\n",
    "test_bigram , test_bigram_padded_sents = padded_everygram_pipeline(n, tokenized_test)\n",
    "\n",
    "# train_reviews_bigram initialises a generator object\n",
    "# each element of the generator object is again a generator object\n",
    "# each element of the inner generator object is a list of tuple of n-grams upto n=2\n",
    "\n",
    "# train_padded_sents initialises a generator object\n",
    "# each element of train padded sents is a list of tekens with padding at both ends based on the n value\n",
    "# if n = 1 no pad token is added\n",
    "# if n = 2 one pad tokens are added at both ends e.g. <s> big brown cow </s>\n",
    "# if n = 3 two pad tokens are added at both ends e.g. <s> <s> big brown cow </s> </s>\n",
    "# and so on ..."
   ]
  },
  {
   "cell_type": "code",
   "execution_count": 193,
   "metadata": {},
   "outputs": [],
   "source": [
    "bigram_model = Laplace(order=n)\n",
    "bigram_model.fit(train_bigram, train_bigram_padded_sents)"
   ]
  },
  {
   "cell_type": "code",
   "execution_count": 194,
   "metadata": {},
   "outputs": [
    {
     "name": "stdout",
     "output_type": "stream",
     "text": [
      "<Vocabulary with cutoff=1 unk_label='<UNK>' and 1177 items>\n"
     ]
    }
   ],
   "source": [
    "print(bigram_model.vocab)"
   ]
  },
  {
   "cell_type": "code",
   "execution_count": 195,
   "metadata": {},
   "outputs": [
    {
     "name": "stdout",
     "output_type": "stream",
     "text": [
      "Average Perplexity:  496.22276680695205\n",
      "Count of positive perplexity:  43\n"
     ]
    }
   ],
   "source": [
    "import math\n",
    "total_perplexity = 0\n",
    "count = 0\n",
    "test_bigram, _ = padded_everygram_pipeline(n, tokenized_test)\n",
    "for sent in test_bigram:\n",
    "    # calculate the perplexity for each sentence\n",
    "    # print(sent)\n",
    "    # perplexity takes a sequence of n-gram tuples as argument\n",
    "    # we need to convert the sentence to n-gram tuples\n",
    "    # we use pad_both_ends function to add padding to the sentence\n",
    "    # we use bigrams function to convert the sentence to bigram tuples\n",
    "    # we use list function to convert the generator object to list\n",
    "    perplexity = bigram_model.perplexity(sent)\n",
    "    if perplexity == math.inf:\n",
    "        continue\n",
    "    total_perplexity += perplexity\n",
    "    count += 1\n",
    "ave_perplexity = total_perplexity / count\n",
    "print('Average Perplexity: ', ave_perplexity)\n",
    "print('Count of positive perplexity: ', count)\n",
    "\n",
    "bigram_perplexity = ave_perplexity"
   ]
  },
  {
   "cell_type": "code",
   "execution_count": 61,
   "metadata": {},
   "outputs": [],
   "source": [
    "x = list(test_bigram_padded_sents)"
   ]
  },
  {
   "cell_type": "markdown",
   "metadata": {},
   "source": [
    "## Create Trigram Model"
   ]
  },
  {
   "cell_type": "code",
   "execution_count": 196,
   "metadata": {},
   "outputs": [],
   "source": [
    "n = 3\n",
    "train_trigram, train_padded_sent = padded_everygram_pipeline(n, tokenized_train)\n",
    "test_trigram, _ = padded_everygram_pipeline(n, tokenized_test)"
   ]
  },
  {
   "cell_type": "code",
   "execution_count": 197,
   "metadata": {},
   "outputs": [],
   "source": [
    "trigram_model = Laplace(order = n)\n",
    "trigram_model.fit(train_trigram, train_padded_sent)"
   ]
  },
  {
   "cell_type": "code",
   "execution_count": 198,
   "metadata": {},
   "outputs": [
    {
     "name": "stdout",
     "output_type": "stream",
     "text": [
      "<Vocabulary with cutoff=1 unk_label='<UNK>' and 1177 items>\n"
     ]
    }
   ],
   "source": [
    "print(trigram_model.vocab)"
   ]
  },
  {
   "cell_type": "code",
   "execution_count": 199,
   "metadata": {},
   "outputs": [
    {
     "name": "stdout",
     "output_type": "stream",
     "text": [
      "[]\n",
      "Average Perplexity:  188.690828262962\n",
      "Count of positive perplexity:  1\n"
     ]
    }
   ],
   "source": [
    "import math\n",
    "total_perplexity = 0\n",
    "count = 0\n",
    "test_trigram, _ = padded_everygram_pipeline(n, tokenized_test)\n",
    "for sent in test_trigram:\n",
    "    # calculate the perplexity for each sentence\n",
    "    # print(sent)\n",
    "    # perplexity takes a sequence of n-gram tuples as argument\n",
    "    perplexity = trigram_model.perplexity(sent)\n",
    "    if perplexity == math.inf:\n",
    "        continue\n",
    "    total_perplexity += perplexity\n",
    "    count += 1\n",
    "    print(list(sent))\n",
    "    break\n",
    "ave_perplexity = total_perplexity / count\n",
    "print('Average Perplexity: ', ave_perplexity)\n",
    "print('Count of positive perplexity: ', count)\n",
    "\n",
    "trigram_perplexity = ave_perplexity"
   ]
  },
  {
   "cell_type": "code",
   "execution_count": 201,
   "metadata": {},
   "outputs": [
    {
     "data": {
      "image/png": "[encoded data removed]",
      "text/plain": [
       "<Figure size 640x480 with 1 Axes>"
      ]
     },
     "metadata": {},
     "output_type": "display_data"
    }
   ],
   "source": [
    "import matplotlib.pyplot as plt\n",
    "\n",
    "x = ['Unigram', 'Bigram', 'Trigram']\n",
    "y = [unigram_perplexity, bigram_perplexity, trigram_perplexity]\n",
    "plt.bar(x, y)\n",
    "plt.xlabel('N-gram')\n",
    "plt.ylabel('Perplexity')\n",
    "plt.title('Perplexity of N-gram Models')\n",
    "plt.show()"
   ]
  },
  {
   "cell_type": "code",
   "execution_count": null,
   "metadata": {},
   "outputs": [],
   "source": []
  }
 ],
 "metadata": {
  "kernelspec": {
   "display_name": "gml",
   "language": "python",
   "name": "python3"
  },
  "language_info": {
   "codemirror_mode": {
    "name": "ipython",
    "version": 3
   },
   "file_extension": ".py",
   "mimetype": "text/x-python",
   "name": "python",
   "nbconvert_exporter": "python",
   "pygments_lexer": "ipython3",
   "version": "3.9.16"
  }
 },
 "nbformat": 4,
 "nbformat_minor": 2
}
