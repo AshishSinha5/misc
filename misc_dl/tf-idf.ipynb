{
 "cells": [
  {
   "cell_type": "code",
   "execution_count": 1,
   "metadata": {},
   "outputs": [],
   "source": [
    "import numpy as np"
   ]
  },
  {
   "cell_type": "code",
   "execution_count": 7,
   "metadata": {},
   "outputs": [
    {
     "name": "stdout",
     "output_type": "stream",
     "text": [
      "1\n",
      "3\n",
      "0.0\n",
      "1.0986122886681098\n"
     ]
    }
   ],
   "source": [
    "# term frequency, add type hints and doc string\n",
    "def tf(term: str, document: str) -> float:\n",
    "    \"\"\"Computes the term frequency of a term in a document.\"\"\"\n",
    "    return document.count(term)\n",
    "\n",
    "# document frequency, add type hints and doc string\n",
    "def df(term: str, corpus: list) -> float:\n",
    "    \"\"\"Computes the document frequency of a term in a corpus.\"\"\"\n",
    "    num_docs_with_term = len([d for d in corpus if term in d])\n",
    "    return num_docs_with_term\n",
    "\n",
    "# inverse document frequency, add type hints and doc string\n",
    "\"\"\"\n",
    "The IDF quantifies how rare or common a term is across the collection of documents. \n",
    "It is used to weigh the importance of terms in information retrieval and text analysis tasks, \n",
    "such as search engines or document ranking.\n",
    "\"\"\"\n",
    "def idf(term: str, corpus: list) -> float:\n",
    "    \"\"\"Computes the inverse document frequency of a term in a corpus.\"\"\"\n",
    "    num_docs = len(corpus)\n",
    "    num_docs_with_term = df(term, corpus)\n",
    "    return np.log(num_docs / num_docs_with_term) # higher idf means the term is more rare\n",
    "\n",
    "# term frequency-inverse document frequency, add type hints and doc string\n",
    "\"\"\"\n",
    "if for a given term and document, the term frequency is high, but the inverse document frequency is high,\n",
    "then the term is common in the document but rare in the corpus.\n",
    "Otherwise, if the term frequency is low, but the inverse document frequency is high, \n",
    "then the term is rare in the document but common in the corpus.\n",
    "\"\"\"\n",
    "def tf_idf(term: str, document: str, corpus: list) -> float:\n",
    "    \"\"\"Computes the tf-idf of a term in a document.\n",
    "    params:\n",
    "        term: the term to compute the tf-idf for\n",
    "        document: the document to compute the tf-idf for\n",
    "        corpus: the corpus from which the document comes from\n",
    "    \"\"\"\n",
    "    return tf(term, document) * idf(term, corpus)\n",
    "\n",
    "# test your code\n",
    "corpus = [\n",
    "    \"I like apples\",\n",
    "    \"I hate apples\",\n",
    "    \"I love the apples\",\n",
    "]\n",
    "\n",
    "print(tf(\"apples\", corpus[0]))\n",
    "print(df(\"apples\", corpus))\n",
    "print(idf(\"apples\", corpus))\n",
    "print(tf_idf(\"the\", corpus[2], corpus))"
   ]
  },
  {
   "cell_type": "code",
   "execution_count": null,
   "metadata": {},
   "outputs": [],
   "source": []
  }
 ],
 "metadata": {
  "kernelspec": {
   "display_name": "gml",
   "language": "python",
   "name": "python3"
  },
  "language_info": {
   "codemirror_mode": {
    "name": "ipython",
    "version": 3
   },
   "file_extension": ".py",
   "mimetype": "text/x-python",
   "name": "python",
   "nbconvert_exporter": "python",
   "pygments_lexer": "ipython3",
   "version": "0.0.0"
  }
 },
 "nbformat": 4,
 "nbformat_minor": 2
}
