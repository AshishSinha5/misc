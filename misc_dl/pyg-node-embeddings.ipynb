{
 "cells": [
  {
   "cell_type": "code",
   "execution_count": 7,
   "metadata": {},
   "outputs": [],
   "source": [
    "import os\n",
    "import numpy as np\n",
    "import pandas as pd\n",
    "from ast import literal_eval\n",
    "import matplotlib.pyplot as plt\n",
    "import tqdm\n",
    "import pickle\n",
    "\n",
    "import torch\n",
    "from torch_geometric.datasets import Planetoid\n",
    "from torch_geometric.data import DataLoader , Data\n",
    "from torch_geometric.nn import GCNConv"
   ]
  },
  {
   "attachments": {},
   "cell_type": "markdown",
   "metadata": {},
   "source": [
    "## GCN Layer\n",
    "*SEMI-SUPERVISED CLASSIFICATION WITH GRAPH CONVOLUTIONAL NETWORKS*\n",
    "$$\n",
    "\\mathbf{x}^{\\prime}_i = \\mathbf{\\Theta}^{\\top} \\sum_{j \\in \\mathcal{N}(i) \\cup \\{ i \\}} \\frac{e_{j,i}}{\\sqrt{\\hat{d}_j\\hat{d}_i}}\\mathbf{x}_j\n",
    "$$\n",
    "\n",
    "- Node dimension - $n$ \n",
    "- Output dimension - $m$\n",
    "- $x_{i}$ - Feature vector of node $i$\n",
    "- $\\Theta$ - Learnable parameter $(n*m)$\n",
    "- $\\mathcal{N}(i)$ - Neighbouhood of node $i$\n",
    "- $e_{j,i}$ - edge weight of edge $(j,i)$\n",
    "- $d_i$ - degree of node $i$\n",
    "\n"
   ]
  },
  {
   "cell_type": "code",
   "execution_count": 21,
   "metadata": {},
   "outputs": [],
   "source": [
    "edge_index = torch.tensor([[0, 1, 1, 2],\n",
    "                           [1, 0, 2, 1]], dtype=torch.long) # graph connectivity in COO format\n",
    "x = torch.tensor([[-1, 12, 32, 1, 3], [0, 3, 42, 12, 4], [1, 31,4, 1, 4]], dtype=torch.float) # Node feature matrix (scalers in this case)\n",
    "data = Data(x=x, edge_index=edge_index)"
   ]
  },
  {
   "cell_type": "code",
   "execution_count": 32,
   "metadata": {},
   "outputs": [],
   "source": [
    "gcn_layer_1 = GCNConv(in_channels=5, out_channels=3, bias=True, improved=True, )\n",
    "gcn_layer_2 = GCNConv(in_channels=3, out_channels=1, bias=True)"
   ]
  },
  {
   "cell_type": "code",
   "execution_count": 33,
   "metadata": {},
   "outputs": [],
   "source": [
    "x = data.x\n",
    "x = gcn_layer_1(x, data.edge_index)\n",
    "x = gcn_layer_2(x, data.edge_index)"
   ]
  },
  {
   "cell_type": "code",
   "execution_count": 40,
   "metadata": {},
   "outputs": [
    {
     "name": "stdout",
     "output_type": "stream",
     "text": [
      "torch.Size([3])\n",
      "torch.Size([3, 5])\n"
     ]
    }
   ],
   "source": [
    "for params in gcn_layer_1.parameters():\n",
    "    print(params.shape)"
   ]
  },
  {
   "cell_type": "code",
   "execution_count": 28,
   "metadata": {},
   "outputs": [
    {
     "name": "stdout",
     "output_type": "stream",
     "text": [
      "Parameter containing:\n",
      "tensor([0.], requires_grad=True)\n",
      "Parameter containing:\n",
      "tensor([[-1.1387,  0.7134, -0.2539]], requires_grad=True)\n"
     ]
    }
   ],
   "source": [
    "for params in gcn_layer_2.parameters():\n",
    "    print(params)"
   ]
  },
  {
   "cell_type": "code",
   "execution_count": 2,
   "metadata": {},
   "outputs": [],
   "source": [
    "data = Planetoid('data/Planetoid', name='cora')"
   ]
  }
 ],
 "metadata": {
  "kernelspec": {
   "display_name": "gml",
   "language": "python",
   "name": "python3"
  },
  "language_info": {
   "codemirror_mode": {
    "name": "ipython",
    "version": 3
   },
   "file_extension": ".py",
   "mimetype": "text/x-python",
   "name": "python",
   "nbconvert_exporter": "python",
   "pygments_lexer": "ipython3",
   "version": "3.9.16"
  },
  "orig_nbformat": 4
 },
 "nbformat": 4,
 "nbformat_minor": 2
}
