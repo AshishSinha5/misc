{
 "cells": [
  {
   "cell_type": "code",
   "execution_count": 2,
   "metadata": {},
   "outputs": [],
   "source": [
    "# Builder Pattern\n",
    "# eg SQL query generation using builder pattern"
   ]
  },
  {
   "cell_type": "code",
   "execution_count": 3,
   "metadata": {},
   "outputs": [],
   "source": [
    "# initialize the builder with the base table from which I’ll be selecting tuples. \n",
    "# Then I can add columns to select, ‘group by’ clauses, joins, and ‘where’ clauses as I need them."
   ]
  },
  {
   "cell_type": "code",
   "execution_count": 13,
   "metadata": {},
   "outputs": [],
   "source": [
    "class QueryBuilder:\n",
    "    def __init__(self):\n",
    "        self.select_value = ''\n",
    "        self.from_table_name = ''\n",
    "        self.table_value = ''\n",
    "        self.where_value = ''\n",
    "        self.group_by_value = ''\n",
    "\n",
    "    def select(self, select_arg):\n",
    "        self.select_value = select_arg\n",
    "        return self\n",
    "    \n",
    "    def from_table(self, from_arg):\n",
    "        self.from_table_name = from_arg\n",
    "        return self\n",
    "    \n",
    "    def where(self, where_arg):\n",
    "        self.where_value = where_arg\n",
    "        return self\n",
    "\n",
    "    def group_by(self, group_by_arg):\n",
    "        self.group_by_value = group_by_arg\n",
    "        return self\n",
    "    \n",
    "    def build(self):\n",
    "        if self.where_value:\n",
    "            where_clause = f'WHERE {self.where_value}'\n",
    "        else:\n",
    "            where_clause = ''\n",
    "        if self.group_by_value:\n",
    "            group_by_clause = f'GROUP BY {self.group_by_value}'\n",
    "        else:\n",
    "            group_by_clause = ''\n",
    "        \n",
    "        return f\"\"\"SELECT \\n {self.select_value} \\n FROM {self.from_table_name} \\n {where_clause} \\n {group_by_clause}\n",
    "                \"\"\""
   ]
  },
  {
   "cell_type": "code",
   "execution_count": 14,
   "metadata": {},
   "outputs": [
    {
     "data": {
      "text/plain": [
       "<__main__.QueryBuilder at 0x210bc26f760>"
      ]
     },
     "execution_count": 14,
     "metadata": {},
     "output_type": "execute_result"
    }
   ],
   "source": [
    "query = QueryBuilder()\n",
    "\n",
    "query.select('id, name, age')\\\n",
    "    .from_table('users')\\\n",
    "    .where('age > 18')\\\n",
    "\n",
    "# Output:\n",
    "# 'SELECT id, name, age FROM users WHERE age > 18 GROUP BY age'\n"
   ]
  },
  {
   "cell_type": "code",
   "execution_count": 15,
   "metadata": {},
   "outputs": [
    {
     "name": "stdout",
     "output_type": "stream",
     "text": [
      "SELECT \n",
      " id, name, age \n",
      " FROM users \n",
      " WHERE age > 18 \n",
      " \n",
      "                \n"
     ]
    }
   ],
   "source": [
    "query_text = query.build()\n",
    "print(query_text)"
   ]
  },
  {
   "cell_type": "code",
   "execution_count": 16,
   "metadata": {},
   "outputs": [
    {
     "ename": "NameError",
     "evalue": "name 'SQLDB' is not defined",
     "output_type": "error",
     "traceback": [
      "\u001b[1;31m---------------------------------------------------------------------------\u001b[0m",
      "\u001b[1;31mNameError\u001b[0m                                 Traceback (most recent call last)",
      "\u001b[1;32mc:\\Users\\sinhaas\\Documents\\ashish\\projects\\misc\\misc_python_concepts\\design_patterns.ipynb Cell 6\u001b[0m line \u001b[0;36m<cell line: 19>\u001b[1;34m()\u001b[0m\n\u001b[0;32m     <a href='vscode-notebook-cell:/c%3A/Users/sinhaas/Documents/ashish/projects/misc/misc_python_concepts/design_patterns.ipynb#W5sZmlsZQ%3D%3D?line=15'>16</a>\u001b[0m     \u001b[39mreturn\u001b[39;00m db\u001b[39m.\u001b[39mget(query_text)\n\u001b[0;32m     <a href='vscode-notebook-cell:/c%3A/Users/sinhaas/Documents/ashish/projects/misc/misc_python_concepts/design_patterns.ipynb#W5sZmlsZQ%3D%3D?line=17'>18</a>\u001b[0m \u001b[39m# Example\u001b[39;00m\n\u001b[1;32m---> <a href='vscode-notebook-cell:/c%3A/Users/sinhaas/Documents/ashish/projects/misc/misc_python_concepts/design_patterns.ipynb#W5sZmlsZQ%3D%3D?line=18'>19</a>\u001b[0m sqldb \u001b[39m=\u001b[39m SQLDB()\n\u001b[0;32m     <a href='vscode-notebook-cell:/c%3A/Users/sinhaas/Documents/ashish/projects/misc/misc_python_concepts/design_patterns.ipynb#W5sZmlsZQ%3D%3D?line=19'>20</a>\u001b[0m query \u001b[39m=\u001b[39m \u001b[39m'\u001b[39m\u001b[39mSELECT * FROM Foo\u001b[39m\u001b[39m'\u001b[39m\n\u001b[0;32m     <a href='vscode-notebook-cell:/c%3A/Users/sinhaas/Documents/ashish/projects/misc/misc_python_concepts/design_patterns.ipynb#W5sZmlsZQ%3D%3D?line=20'>21</a>\u001b[0m data \u001b[39m=\u001b[39m get_data(sqldb, query)\n",
      "\u001b[1;31mNameError\u001b[0m: name 'SQLDB' is not defined"
     ]
    }
   ],
   "source": [
    "# Depedency Injection\n",
    "# eg: Database class\n",
    "\n",
    "# uses both SQL Server and Cosmos DB, as well as other data sources. \n",
    "# Passing in the database class as an argument makes it easy to swap out different databases for different ideas, \n",
    "# and makes writing testable code a lot easier, since database classes are easy to mock.\n",
    "\n",
    "# Don't do this\n",
    "def get_data_bad(query_text):\n",
    "    db = SQLDB()\n",
    "    return db.get(query_text)\n",
    "    \n",
    "# What if you need to use a DocDB instance? Or a DynamoDB instance?\n",
    "# Do this instead\n",
    "def get_data(db, query_text):\n",
    "    return db.get(query_text)\n",
    "    \n",
    "# Example\n",
    "sqldb = SQLDB()\n",
    "query = 'SELECT * FROM Foo'\n",
    "data = get_data(sqldb, query)\n",
    "\n",
    "# Or, if you need to use DocDB instead, you don't need to change your original get_data method\n",
    "docdb = DocDB()\n",
    "query = 'SELECT c.* FROM c'\n",
    "data = get_data(docdb, query)"
   ]
  },
  {
   "cell_type": "code",
   "execution_count": 19,
   "metadata": {},
   "outputs": [
    {
     "name": "stdout",
     "output_type": "stream",
     "text": [
      "add took 72.42118120193481 seconds to run\n"
     ]
    },
    {
     "data": {
      "text/plain": [
       "1000000002"
      ]
     },
     "execution_count": 19,
     "metadata": {},
     "output_type": "execute_result"
    }
   ],
   "source": [
    "# Decorator Pattern\n",
    "# eg: Logging function metadata\n",
    "\n",
    "from time import time\n",
    "\n",
    "def log_time(func):\n",
    "    \"\"\"Logs the time it takes to run a function\"\"\"\n",
    "    def wrapper(*args, **kwargs):\n",
    "        start = time()\n",
    "        result = func(*args, **kwargs)\n",
    "        end = time()\n",
    "        print(f'{func.__name__} took {end - start} seconds to run')\n",
    "        return result\n",
    "    return wrapper\n",
    "\n",
    "# example\n",
    "@log_time\n",
    "def add(a, b):\n",
    "    while a < 1000000000:\n",
    "        a += 1\n",
    "    return a + b\n",
    "\n",
    "add(1, 2)"
   ]
  },
  {
   "cell_type": "code",
   "execution_count": null,
   "metadata": {},
   "outputs": [],
   "source": []
  }
 ],
 "metadata": {
  "kernelspec": {
   "display_name": "gml",
   "language": "python",
   "name": "python3"
  },
  "language_info": {
   "codemirror_mode": {
    "name": "ipython",
    "version": 3
   },
   "file_extension": ".py",
   "mimetype": "text/x-python",
   "name": "python",
   "nbconvert_exporter": "python",
   "pygments_lexer": "ipython3",
   "version": "3.8.16"
  }
 },
 "nbformat": 4,
 "nbformat_minor": 2
}
