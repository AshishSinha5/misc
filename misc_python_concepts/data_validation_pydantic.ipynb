{
 "cells": [
  {
   "cell_type": "code",
   "execution_count": 1,
   "metadata": {},
   "outputs": [],
   "source": [
    "# data exchange layer\n",
    "# automatically validation type conversion\n"
   ]
  },
  {
   "cell_type": "code",
   "execution_count": 48,
   "metadata": {},
   "outputs": [],
   "source": [
    "from typing import List, Optional\n",
    "from pydantic import BaseModel, ValidationError, validator\n",
    "from pydantic_settings import BaseSettings"
   ]
  },
  {
   "cell_type": "code",
   "execution_count": 40,
   "metadata": {},
   "outputs": [],
   "source": [
    "# sample json data\n",
    "data = [{\"first_name\": \"Ashish\", \n",
    "        \"last_name\": \"Kumar\",\n",
    "        \"address\": {\"street\" : \"123 Main Street\",\n",
    "                    \"country\" : \"India\",\n",
    "                    \"zipcode\" : 123456},\n",
    "        \"favorite_colors\": [\"red\", \"blue\", \"green\"]\n",
    "        },\n",
    "        {\"first_name\": \"John\",\n",
    "         \"last_name\": \"Doe\",\n",
    "         \"address\": {\"street\" : \"456 Main Street\",\n",
    "                    \"country\" : \"USA\",\n",
    "                    \"zipcode\" : 456789},\n",
    "        \"favorite_colors\": [\"red\", \"123\"]}, # 123 is not a string\n",
    "        {\"first_name\": \"Jane\",\n",
    "         \"last_name\": \"Doe\",\n",
    "         \"address\": {\"street\" : \"789 Main Street\",\n",
    "                    \"country\" : \"USA\",\n",
    "                    \"zipcode\" : \"789012\"}, # zipcode is string\n",
    "        \"favorite_colors\": [\"blue\", \"green\", \"yellow\"]}, \n",
    "        {\"first_name\": \"Jane\",\n",
    "         \"last_name\": '', # last_name is missing\n",
    "         \"address\": {\"street\" : \"789 Main Street\",\n",
    "                    \"country\" : \"USA\",\n",
    "                    \"zipcode\" : \"789012\"}, # zipcode is string\n",
    "        \"favorite_colors\": [\"blue\", \"green\", \"yellow\"]}]\n",
    "\n"
   ]
  },
  {
   "cell_type": "code",
   "execution_count": 41,
   "metadata": {},
   "outputs": [],
   "source": [
    "class Address(BaseModel):\n",
    "    street: str\n",
    "    country: str = \"India\"\n",
    "    zipcode: int\n",
    "\n",
    "class Person(BaseModel):\n",
    "    first_name: str\n",
    "    last_name: Optional[str] \n",
    "    address: Optional[Address]\n",
    "    favorite_colors: List[str]\n",
    "    "
   ]
  },
  {
   "cell_type": "code",
   "execution_count": 42,
   "metadata": {},
   "outputs": [],
   "source": [
    "import json \n",
    "from pprint import pprint"
   ]
  },
  {
   "cell_type": "code",
   "execution_count": 43,
   "metadata": {},
   "outputs": [
    {
     "data": {
      "text/plain": [
       "[Person(first_name='Ashish', last_name='Kumar', address=Address(street='123 Main Street', country='India', zipcode=123456), favorite_colors=['red', 'blue', 'green']),\n",
       " Person(first_name='John', last_name='Doe', address=Address(street='456 Main Street', country='USA', zipcode=456789), favorite_colors=['red', '123']),\n",
       " Person(first_name='Jane', last_name='Doe', address=Address(street='789 Main Street', country='USA', zipcode=789012), favorite_colors=['blue', 'green', 'yellow']),\n",
       " Person(first_name='Jane', last_name='', address=Address(street='789 Main Street', country='USA', zipcode=789012), favorite_colors=['blue', 'green', 'yellow'])]"
      ]
     },
     "execution_count": 43,
     "metadata": {},
     "output_type": "execute_result"
    }
   ],
   "source": [
    "people  = [Person(**p) for p in data]\n",
    "people"
   ]
  },
  {
   "cell_type": "code",
   "execution_count": 44,
   "metadata": {},
   "outputs": [
    {
     "name": "stdout",
     "output_type": "stream",
     "text": [
      "Person(first_name='Ashish', last_name='Kumar', address=Address(street='123 Main Street', country='India', zipcode=123456), favorite_colors=['red', 'blue', 'green'])\n",
      "Person(first_name='John', last_name='Doe', address=Address(street='456 Main Street', country='USA', zipcode=456789), favorite_colors=['red', '123'])\n",
      "Person(first_name='Jane', last_name='Doe', address=Address(street='789 Main Street', country='USA', zipcode=789012), favorite_colors=['blue', 'green', 'yellow'])\n",
      "Person(first_name='Jane', last_name='', address=Address(street='789 Main Street', country='USA', zipcode=789012), favorite_colors=['blue', 'green', 'yellow'])\n"
     ]
    }
   ],
   "source": [
    "for p in people:\n",
    "    pprint(p)\n",
    "\n",
    "# fixed zipcode and country"
   ]
  },
  {
   "cell_type": "code",
   "execution_count": 45,
   "metadata": {},
   "outputs": [
    {
     "name": "stderr",
     "output_type": "stream",
     "text": [
      "C:\\Users\\sinhaas\\AppData\\Local\\Temp\\ipykernel_76004\\1641282705.py:1: PydanticDeprecatedSince20: The `json` method is deprecated; use `model_dump_json` instead. Deprecated in Pydantic V2.0 to be removed in V3.0. See Pydantic V2 Migration Guide at https://errors.pydantic.dev/2.4/migration/\n",
      "  people_as_json = [p.json() for p in people]\n"
     ]
    },
    {
     "data": {
      "text/plain": [
       "['{\"first_name\":\"Ashish\",\"last_name\":\"Kumar\",\"address\":{\"street\":\"123 Main Street\",\"country\":\"India\",\"zipcode\":123456},\"favorite_colors\":[\"red\",\"blue\",\"green\"]}',\n",
       " '{\"first_name\":\"John\",\"last_name\":\"Doe\",\"address\":{\"street\":\"456 Main Street\",\"country\":\"USA\",\"zipcode\":456789},\"favorite_colors\":[\"red\",\"123\"]}',\n",
       " '{\"first_name\":\"Jane\",\"last_name\":\"Doe\",\"address\":{\"street\":\"789 Main Street\",\"country\":\"USA\",\"zipcode\":789012},\"favorite_colors\":[\"blue\",\"green\",\"yellow\"]}',\n",
       " '{\"first_name\":\"Jane\",\"last_name\":\"\",\"address\":{\"street\":\"789 Main Street\",\"country\":\"USA\",\"zipcode\":789012},\"favorite_colors\":[\"blue\",\"green\",\"yellow\"]}']"
      ]
     },
     "execution_count": 45,
     "metadata": {},
     "output_type": "execute_result"
    }
   ],
   "source": [
    "people_as_json = [p.json() for p in people]\n",
    "people_as_json"
   ]
  },
  {
   "cell_type": "code",
   "execution_count": 66,
   "metadata": {},
   "outputs": [],
   "source": [
    "class DbSettings(BaseSettings):\n",
    "    name : str\n",
    "    ip_address: str\n",
    "    user : Optional[str]\n",
    "    password : Optional[str]\n",
    "\n",
    "\n",
    "class ServerSettings(BaseSettings):\n",
    "    api_key: str\n",
    "    version: int\n",
    "    db_settings: Optional[DbSettings] = None"
   ]
  },
  {
   "cell_type": "code",
   "execution_count": 67,
   "metadata": {},
   "outputs": [
    {
     "name": "stdout",
     "output_type": "stream",
     "text": [
      "api_key='123_safjsd' version=7 db_settings=DbSettings(name='Ashish', ip_address='172.12.24.64', user='ashish', password='pass123')\n"
     ]
    }
   ],
   "source": [
    "settings = ServerSettings(_env_file=\"data/server.env\", _env_file_encoding=\"utf-8\")\n",
    "settings.db_settings = DbSettings(_env_file=\"data/db.env\", _env_file_encoding=\"utf-8\")\n",
    "print(settings)"
   ]
  },
  {
   "cell_type": "code",
   "execution_count": 63,
   "metadata": {},
   "outputs": [
    {
     "data": {
      "text/plain": [
       "'{\"api_key\":\"123_safjsd\",\"version\":7,\"db_settings\":{\"name\":\"Ashish\",\"ip_address\":\"172.12.24.64\",\"user\":\"ashish\",\"password\":\"pass123\"}}'"
      ]
     },
     "execution_count": 63,
     "metadata": {},
     "output_type": "execute_result"
    }
   ],
   "source": [
    "settings.model_dump_json()\n",
    "# version got converted to int"
   ]
  }
 ],
 "metadata": {
  "kernelspec": {
   "display_name": "gml",
   "language": "python",
   "name": "python3"
  },
  "language_info": {
   "codemirror_mode": {
    "name": "ipython",
    "version": 3
   },
   "file_extension": ".py",
   "mimetype": "text/x-python",
   "name": "python",
   "nbconvert_exporter": "python",
   "pygments_lexer": "ipython3",
   "version": "3.8.16"
  }
 },
 "nbformat": 4,
 "nbformat_minor": 2
}
