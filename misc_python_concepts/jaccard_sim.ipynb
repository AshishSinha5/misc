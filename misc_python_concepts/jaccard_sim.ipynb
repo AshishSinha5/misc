{
 "cells": [
  {
   "cell_type": "code",
   "execution_count": 2,
   "metadata": {},
   "outputs": [
    {
     "name": "stderr",
     "output_type": "stream",
     "text": [
      "/home/sinha/miniconda3/envs/gml/lib/python3.9/site-packages/tqdm/auto.py:21: TqdmWarning: IProgress not found. Please update jupyter and ipywidgets. See https://ipywidgets.readthedocs.io/en/stable/user_install.html\n",
      "  from .autonotebook import tqdm as notebook_tqdm\n"
     ]
    }
   ],
   "source": [
    "import editdistance\n",
    "# huggingface's transformers library\n",
    "from transformers import BertModel, BertTokenizer"
   ]
  },
  {
   "cell_type": "code",
   "execution_count": 3,
   "metadata": {},
   "outputs": [],
   "source": [
    "from itertools import product"
   ]
  },
  {
   "cell_type": "code",
   "execution_count": 4,
   "metadata": {},
   "outputs": [],
   "source": [
    "from nltk.util import ngrams"
   ]
  },
  {
   "cell_type": "code",
   "execution_count": 5,
   "metadata": {},
   "outputs": [],
   "source": [
    "import torch \n",
    "import torch.nn as nn\n",
    "import torch.nn.functional as F\n",
    "\n",
    "device = torch.device(\"cuda\" if torch.cuda.is_available() else \"cpu\")"
   ]
  },
  {
   "cell_type": "code",
   "execution_count": 6,
   "metadata": {},
   "outputs": [],
   "source": [
    "# from evaluate import load\n",
    "\n",
    "# bertscore = load(\"bertscore\")"
   ]
  },
  {
   "cell_type": "code",
   "execution_count": 7,
   "metadata": {},
   "outputs": [],
   "source": [
    "def jaccard_similarity(str1, str2, n):\n",
    "    str1_bigrams = list(ngrams(str1, n))\n",
    "    str2_bigrams = list(ngrams(str2, n))\n",
    "\n",
    "    intersection = len(list(set(str1_bigrams).intersection(set(str2_bigrams))))\n",
    "    union = (len(set(str1_bigrams)) + len(set(str2_bigrams))) - intersection\n",
    "\n",
    "    return float(intersection) / union"
   ]
  },
  {
   "cell_type": "code",
   "execution_count": 8,
   "metadata": {},
   "outputs": [],
   "source": [
    "ORIGINAL_KEYS_LIST = [\n",
    "\"orientation\",\n",
    "\"paper_size\",\n",
    "\"Copies\",\n",
    "\"Color Print\",\n",
    "\"adjust_font_size\", \n",
    "\"Duplex Printing\",\n",
    "\"print_quality\",\n",
    "\"font_size\",\n",
    "\"column_widths\",\n",
    "\"horizontal_alignment\",\n",
    "\"text_wrap\",\n",
    "\"hide_empty_columns\",\n",
    "\"hide_long_columns\",\n",
    "\"vertical_alignment\",\n",
    "\"increase_header_font\",\n",
    "\"show_header_in_all_page\"\n",
    "]\n",
    "# TO LOWER CASE\n",
    "NORMALIZED_KEYS_LIST = [ key.lower() for key in ORIGINAL_KEYS_LIST]\n",
    "\n",
    "# normalized to original map \n",
    "NORMALIZED_TO_ORIGINAL_MAP = {NORMALIZED_KEYS_LIST[i]: ORIGINAL_KEYS_LIST[i] for i in range(len(ORIGINAL_KEYS_LIST))}"
   ]
  },
  {
   "cell_type": "code",
   "execution_count": 9,
   "metadata": {},
   "outputs": [],
   "source": [
    "input_dict = {\n",
    "    'Color': 'No',\n",
    "    'Copy': 1,\n",
    "    'Duplex': 'No',\n",
    "    'column_widths': True,\n",
    "    'font size': 'Medium',\n",
    "    'adjust font size': 'No',\n",
    "    'hide_empty_columns': False,\n",
    "    'hide_long_columns': True,\n",
    "    'horizontal_alignment': True,\n",
    "    'increase_header_font': True,\n",
    "    'orientation': 'landscape',\n",
    "    'paper size': 'A4',\n",
    "    'show_header_in_all_page': True,\n",
    "    'vertical_alignment': False\n",
    "}"
   ]
  },
  {
   "cell_type": "code",
   "execution_count": 10,
   "metadata": {},
   "outputs": [],
   "source": [
    "# function to find the closest match of the keys using jaccard similarity\n",
    "def find_closest_match(input_dict, keys_list):\n",
    "    match = {}\n",
    "    for key in input_dict.keys():\n",
    "        key = key.lower()\n",
    "        max_sim = 0\n",
    "        for k in keys_list:\n",
    "            sim = jaccard_similarity(key, k, 3)\n",
    "            if sim > max_sim:\n",
    "                max_sim = sim\n",
    "                match[key] = k\n",
    "\n",
    "        # map to original key\n",
    "        match[key] = NORMALIZED_TO_ORIGINAL_MAP[match[key]]\n",
    "    return match \n",
    "    "
   ]
  },
  {
   "cell_type": "code",
   "execution_count": 11,
   "metadata": {},
   "outputs": [],
   "source": [
    "match = find_closest_match(input_dict, NORMALIZED_KEYS_LIST)"
   ]
  },
  {
   "cell_type": "code",
   "execution_count": 12,
   "metadata": {},
   "outputs": [
    {
     "data": {
      "text/plain": [
       "{'color': 'Color Print',\n",
       " 'copy': 'Copies',\n",
       " 'duplex': 'Duplex Printing',\n",
       " 'column_widths': 'column_widths',\n",
       " 'font size': 'font_size',\n",
       " 'adjust font size': 'adjust_font_size',\n",
       " 'hide_empty_columns': 'hide_empty_columns',\n",
       " 'hide_long_columns': 'hide_long_columns',\n",
       " 'horizontal_alignment': 'horizontal_alignment',\n",
       " 'increase_header_font': 'increase_header_font',\n",
       " 'orientation': 'orientation',\n",
       " 'paper size': 'paper_size',\n",
       " 'show_header_in_all_page': 'show_header_in_all_page',\n",
       " 'vertical_alignment': 'vertical_alignment'}"
      ]
     },
     "execution_count": 12,
     "metadata": {},
     "output_type": "execute_result"
    }
   ],
   "source": [
    "match"
   ]
  },
  {
   "cell_type": "code",
   "execution_count": null,
   "metadata": {},
   "outputs": [],
   "source": []
  }
 ],
 "metadata": {
  "kernelspec": {
   "display_name": "gml",
   "language": "python",
   "name": "python3"
  },
  "language_info": {
   "codemirror_mode": {
    "name": "ipython",
    "version": 3
   },
   "file_extension": ".py",
   "mimetype": "text/x-python",
   "name": "python",
   "nbconvert_exporter": "python",
   "pygments_lexer": "ipython3",
   "version": "3.9.16"
  }
 },
 "nbformat": 4,
 "nbformat_minor": 2
}
